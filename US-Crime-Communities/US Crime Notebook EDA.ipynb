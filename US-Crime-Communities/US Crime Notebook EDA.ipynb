{
 "cells": [
  {
   "attachments": {},
   "cell_type": "markdown",
   "metadata": {},
   "source": [
    "# US Crime Communities \n",
    "### EDA & Hypothesis Testing"
   ]
  },
  {
   "attachments": {},
   "cell_type": "markdown",
   "metadata": {},
   "source": [
    "This is a dataset of 2018 US communities, demographics of each community, and their crime rates. The dataset has 146 variables where the first four columns are community/location, the middle features are demographic information about each community such as population, age, race, income, and the final columns are types of crimes and overall crime rates."
   ]
  },
  {
   "attachments": {},
   "cell_type": "markdown",
   "metadata": {},
   "source": [
    "Table of Contents"
   ]
  },
  {
   "attachments": {},
   "cell_type": "markdown",
   "metadata": {},
   "source": [
    "### Mission Statement\n",
    "\n",
    "The aim of this project is to analyse a comprehensive dataset of US communities, gathered in 2018, in order to determine what factors contribute to high crime rates. This is a selective analysis in that only columns related to the selected target features for the analysis will be used. This is predominantly a project that will use the principles of Exploratory Data Analysis (EDA) and Hypothesis Testing to see what factors may or may not contribute to greater crime rates in a community."
   ]
  },
  {
   "attachments": {},
   "cell_type": "markdown",
   "metadata": {},
   "source": [
    "### Data Understanding"
   ]
  },
  {
   "attachments": {},
   "cell_type": "markdown",
   "metadata": {},
   "source": [
    "Read in the data"
   ]
  },
  {
   "cell_type": "code",
   "execution_count": 55,
   "metadata": {},
   "outputs": [],
   "source": [
    "%matplotlib inline\n",
    "\n",
    "import pandas as pd\n",
    "import numpy as np\n",
    "import seaborn as sns\n",
    "import matplotlib.pyplot as plt\n",
    "from scipy import stats\n",
    "import math\n",
    "\n",
    "from sklearn.preprocessing import StandardScaler\n",
    "from sklearn.preprocessing import MinMaxScaler\n",
    "\n",
    "from scipy.stats import norm\n",
    "from scipy import stats"
   ]
  },
  {
   "cell_type": "code",
   "execution_count": 3,
   "metadata": {},
   "outputs": [],
   "source": [
    "data = pd.read_csv('crimedata.csv')"
   ]
  },
  {
   "cell_type": "code",
   "execution_count": 4,
   "metadata": {},
   "outputs": [
    {
     "data": {
      "text/html": [
       "<div>\n",
       "<style scoped>\n",
       "    .dataframe tbody tr th:only-of-type {\n",
       "        vertical-align: middle;\n",
       "    }\n",
       "\n",
       "    .dataframe tbody tr th {\n",
       "        vertical-align: top;\n",
       "    }\n",
       "\n",
       "    .dataframe thead th {\n",
       "        text-align: right;\n",
       "    }\n",
       "</style>\n",
       "<table border=\"1\" class=\"dataframe\">\n",
       "  <thead>\n",
       "    <tr style=\"text-align: right;\">\n",
       "      <th></th>\n",
       "      <th>communityName</th>\n",
       "      <th>state</th>\n",
       "      <th>countyCode</th>\n",
       "      <th>communityCode</th>\n",
       "      <th>population</th>\n",
       "      <th>householdsize</th>\n",
       "      <th>racepctblack</th>\n",
       "      <th>racePctWhite</th>\n",
       "      <th>racePctAsian</th>\n",
       "      <th>racePctHisp</th>\n",
       "      <th>...</th>\n",
       "      <th>burglaries</th>\n",
       "      <th>burglPerPop</th>\n",
       "      <th>larcenies</th>\n",
       "      <th>larcPerPop</th>\n",
       "      <th>autoTheft</th>\n",
       "      <th>autoTheftPerPop</th>\n",
       "      <th>arsons</th>\n",
       "      <th>arsonsPerPop</th>\n",
       "      <th>ViolentCrimesPerPop</th>\n",
       "      <th>nonViolPerPop</th>\n",
       "    </tr>\n",
       "  </thead>\n",
       "  <tbody>\n",
       "    <tr>\n",
       "      <th>0</th>\n",
       "      <td>BerkeleyHeightstownship</td>\n",
       "      <td>NJ</td>\n",
       "      <td>39.0</td>\n",
       "      <td>5320.0</td>\n",
       "      <td>11980</td>\n",
       "      <td>3.10</td>\n",
       "      <td>1.37</td>\n",
       "      <td>91.78</td>\n",
       "      <td>6.50</td>\n",
       "      <td>1.88</td>\n",
       "      <td>...</td>\n",
       "      <td>14.0</td>\n",
       "      <td>114.85</td>\n",
       "      <td>138.0</td>\n",
       "      <td>1132.08</td>\n",
       "      <td>16.0</td>\n",
       "      <td>131.26</td>\n",
       "      <td>2.0</td>\n",
       "      <td>16.41</td>\n",
       "      <td>41.02</td>\n",
       "      <td>1394.59</td>\n",
       "    </tr>\n",
       "    <tr>\n",
       "      <th>1</th>\n",
       "      <td>Marpletownship</td>\n",
       "      <td>PA</td>\n",
       "      <td>45.0</td>\n",
       "      <td>47616.0</td>\n",
       "      <td>23123</td>\n",
       "      <td>2.82</td>\n",
       "      <td>0.80</td>\n",
       "      <td>95.57</td>\n",
       "      <td>3.44</td>\n",
       "      <td>0.85</td>\n",
       "      <td>...</td>\n",
       "      <td>57.0</td>\n",
       "      <td>242.37</td>\n",
       "      <td>376.0</td>\n",
       "      <td>1598.78</td>\n",
       "      <td>26.0</td>\n",
       "      <td>110.55</td>\n",
       "      <td>1.0</td>\n",
       "      <td>4.25</td>\n",
       "      <td>127.56</td>\n",
       "      <td>1955.95</td>\n",
       "    </tr>\n",
       "    <tr>\n",
       "      <th>2</th>\n",
       "      <td>Tigardcity</td>\n",
       "      <td>OR</td>\n",
       "      <td>NaN</td>\n",
       "      <td>NaN</td>\n",
       "      <td>29344</td>\n",
       "      <td>2.43</td>\n",
       "      <td>0.74</td>\n",
       "      <td>94.33</td>\n",
       "      <td>3.43</td>\n",
       "      <td>2.35</td>\n",
       "      <td>...</td>\n",
       "      <td>274.0</td>\n",
       "      <td>758.14</td>\n",
       "      <td>1797.0</td>\n",
       "      <td>4972.19</td>\n",
       "      <td>136.0</td>\n",
       "      <td>376.30</td>\n",
       "      <td>22.0</td>\n",
       "      <td>60.87</td>\n",
       "      <td>218.59</td>\n",
       "      <td>6167.51</td>\n",
       "    </tr>\n",
       "  </tbody>\n",
       "</table>\n",
       "<p>3 rows × 146 columns</p>\n",
       "</div>"
      ],
      "text/plain": [
       "             communityName state  countyCode  communityCode  population  \\\n",
       "0  BerkeleyHeightstownship    NJ        39.0         5320.0       11980   \n",
       "1           Marpletownship    PA        45.0        47616.0       23123   \n",
       "2               Tigardcity    OR         NaN            NaN       29344   \n",
       "\n",
       "   householdsize  racepctblack  racePctWhite  racePctAsian  racePctHisp  ...  \\\n",
       "0           3.10          1.37         91.78          6.50         1.88  ...   \n",
       "1           2.82          0.80         95.57          3.44         0.85  ...   \n",
       "2           2.43          0.74         94.33          3.43         2.35  ...   \n",
       "\n",
       "   burglaries  burglPerPop  larcenies  larcPerPop  autoTheft  autoTheftPerPop  \\\n",
       "0        14.0       114.85      138.0     1132.08       16.0           131.26   \n",
       "1        57.0       242.37      376.0     1598.78       26.0           110.55   \n",
       "2       274.0       758.14     1797.0     4972.19      136.0           376.30   \n",
       "\n",
       "   arsons  arsonsPerPop  ViolentCrimesPerPop  nonViolPerPop  \n",
       "0     2.0         16.41                41.02        1394.59  \n",
       "1     1.0          4.25               127.56        1955.95  \n",
       "2    22.0         60.87               218.59        6167.51  \n",
       "\n",
       "[3 rows x 146 columns]"
      ]
     },
     "execution_count": 4,
     "metadata": {},
     "output_type": "execute_result"
    }
   ],
   "source": [
    "data.head(3)"
   ]
  },
  {
   "cell_type": "code",
   "execution_count": 5,
   "metadata": {},
   "outputs": [
    {
     "data": {
      "text/plain": [
       "(2215, 146)"
      ]
     },
     "execution_count": 5,
     "metadata": {},
     "output_type": "execute_result"
    }
   ],
   "source": [
    "data.shape"
   ]
  },
  {
   "attachments": {},
   "cell_type": "markdown",
   "metadata": {},
   "source": [
    "Since we have 146 columns, we can perform a process of removing columns by inspection of quality and suitability for the analysis."
   ]
  },
  {
   "attachments": {},
   "cell_type": "markdown",
   "metadata": {},
   "source": [
    "### Missing Values"
   ]
  },
  {
   "cell_type": "code",
   "execution_count": 6,
   "metadata": {},
   "outputs": [],
   "source": [
    "missing_vols = pd.DataFrame(data.isnull().sum().sort_values(ascending=False))\n",
    "missing_vols.reset_index(inplace=True)"
   ]
  },
  {
   "cell_type": "code",
   "execution_count": 7,
   "metadata": {},
   "outputs": [
    {
     "data": {
      "text/html": [
       "<div>\n",
       "<style scoped>\n",
       "    .dataframe tbody tr th:only-of-type {\n",
       "        vertical-align: middle;\n",
       "    }\n",
       "\n",
       "    .dataframe tbody tr th {\n",
       "        vertical-align: top;\n",
       "    }\n",
       "\n",
       "    .dataframe thead th {\n",
       "        text-align: right;\n",
       "    }\n",
       "</style>\n",
       "<table border=\"1\" class=\"dataframe\">\n",
       "  <thead>\n",
       "    <tr style=\"text-align: right;\">\n",
       "      <th></th>\n",
       "      <th>index</th>\n",
       "      <th>0</th>\n",
       "    </tr>\n",
       "  </thead>\n",
       "  <tbody>\n",
       "    <tr>\n",
       "      <th>0</th>\n",
       "      <td>PctPolicBlack</td>\n",
       "      <td>1872</td>\n",
       "    </tr>\n",
       "    <tr>\n",
       "      <th>1</th>\n",
       "      <td>PolicAveOTWorked</td>\n",
       "      <td>1872</td>\n",
       "    </tr>\n",
       "    <tr>\n",
       "      <th>2</th>\n",
       "      <td>PolicOperBudg</td>\n",
       "      <td>1872</td>\n",
       "    </tr>\n",
       "    <tr>\n",
       "      <th>3</th>\n",
       "      <td>LemasPctPolicOnPatr</td>\n",
       "      <td>1872</td>\n",
       "    </tr>\n",
       "    <tr>\n",
       "      <th>4</th>\n",
       "      <td>LemasGangUnitDeploy</td>\n",
       "      <td>1872</td>\n",
       "    </tr>\n",
       "  </tbody>\n",
       "</table>\n",
       "</div>"
      ],
      "text/plain": [
       "                 index     0\n",
       "0        PctPolicBlack  1872\n",
       "1     PolicAveOTWorked  1872\n",
       "2        PolicOperBudg  1872\n",
       "3  LemasPctPolicOnPatr  1872\n",
       "4  LemasGangUnitDeploy  1872"
      ]
     },
     "execution_count": 7,
     "metadata": {},
     "output_type": "execute_result"
    }
   ],
   "source": [
    "missing_vols.head()"
   ]
  },
  {
   "cell_type": "code",
   "execution_count": 8,
   "metadata": {},
   "outputs": [],
   "source": [
    "missing_vols.rename(columns={'index':'feature', 0:'total_missing'}, inplace=True)"
   ]
  },
  {
   "cell_type": "code",
   "execution_count": 9,
   "metadata": {},
   "outputs": [
    {
     "data": {
      "text/html": [
       "<div>\n",
       "<style scoped>\n",
       "    .dataframe tbody tr th:only-of-type {\n",
       "        vertical-align: middle;\n",
       "    }\n",
       "\n",
       "    .dataframe tbody tr th {\n",
       "        vertical-align: top;\n",
       "    }\n",
       "\n",
       "    .dataframe thead th {\n",
       "        text-align: right;\n",
       "    }\n",
       "</style>\n",
       "<table border=\"1\" class=\"dataframe\">\n",
       "  <thead>\n",
       "    <tr style=\"text-align: right;\">\n",
       "      <th></th>\n",
       "      <th>total_missing</th>\n",
       "    </tr>\n",
       "  </thead>\n",
       "  <tbody>\n",
       "    <tr>\n",
       "      <th>count</th>\n",
       "      <td>146.000000</td>\n",
       "    </tr>\n",
       "    <tr>\n",
       "      <th>mean</th>\n",
       "      <td>305.424658</td>\n",
       "    </tr>\n",
       "    <tr>\n",
       "      <th>std</th>\n",
       "      <td>677.865329</td>\n",
       "    </tr>\n",
       "    <tr>\n",
       "      <th>min</th>\n",
       "      <td>0.000000</td>\n",
       "    </tr>\n",
       "    <tr>\n",
       "      <th>25%</th>\n",
       "      <td>0.000000</td>\n",
       "    </tr>\n",
       "    <tr>\n",
       "      <th>50%</th>\n",
       "      <td>0.000000</td>\n",
       "    </tr>\n",
       "    <tr>\n",
       "      <th>75%</th>\n",
       "      <td>3.000000</td>\n",
       "    </tr>\n",
       "    <tr>\n",
       "      <th>max</th>\n",
       "      <td>1872.000000</td>\n",
       "    </tr>\n",
       "  </tbody>\n",
       "</table>\n",
       "</div>"
      ],
      "text/plain": [
       "       total_missing\n",
       "count     146.000000\n",
       "mean      305.424658\n",
       "std       677.865329\n",
       "min         0.000000\n",
       "25%         0.000000\n",
       "50%         0.000000\n",
       "75%         3.000000\n",
       "max      1872.000000"
      ]
     },
     "execution_count": 9,
     "metadata": {},
     "output_type": "execute_result"
    }
   ],
   "source": [
    "missing_vols.describe()"
   ]
  },
  {
   "cell_type": "code",
   "execution_count": 10,
   "metadata": {},
   "outputs": [
    {
     "data": {
      "text/plain": [
       "(2215, 124)"
      ]
     },
     "execution_count": 10,
     "metadata": {},
     "output_type": "execute_result"
    }
   ],
   "source": [
    "# drop columns with 1872 missing\n",
    "pd.set_option(\"display.max_columns\", 200)\n",
    "drop_list = missing_vols[missing_vols['total_missing'] == 1872]['feature'].unique().tolist()\n",
    "data.drop([i for i in drop_list], axis=1, inplace=True)\n",
    "data.shape"
   ]
  },
  {
   "cell_type": "code",
   "execution_count": 11,
   "metadata": {},
   "outputs": [],
   "source": [
    "\n",
    "# inspect others above mean\n",
    "mean_missing = missing_vols['total_missing'].mean()\n",
    "missing_vols[(missing_vols.total_missing > mean_missing) & (missing_vols.total_missing != 1872)]\n",
    "data.drop(columns=[\"communityCode\", \"countyCode\"],inplace=True)"
   ]
  },
  {
   "cell_type": "code",
   "execution_count": 12,
   "metadata": {},
   "outputs": [
    {
     "data": {
      "image/png": "[encoded data removed]",
      "text/plain": [
       "<Figure size 720x720 with 1 Axes>"
      ]
     },
     "metadata": {
      "needs_background": "light"
     },
     "output_type": "display_data"
    }
   ],
   "source": [
    "missing_vols = pd.DataFrame(data.isnull().sum().sort_values(ascending=False))\n",
    "missing_vols.reset_index(inplace=True)\n",
    "missing_vols.rename(columns={'index':'feature', 0:'total_missing'}, inplace=True)\n",
    "\n",
    "# Visualise the missing data volumes for the remaining columns\n",
    "fig, ax = plt.subplots(figsize=(10,10))\n",
    "plot = sns.barplot(data=missing_vols[missing_vols['total_missing'] != 0],\n",
    "                    x='feature', y=\"total_missing\", ax=ax, palette='tab20')\n",
    "plot.set_xticklabels(labels=plot.get_xticklabels(),rotation=45)\n",
    "plt.show()"
   ]
  },
  {
   "attachments": {},
   "cell_type": "markdown",
   "metadata": {},
   "source": [
    "We have some remaining null values in the crime type columns. However before we decide on the most appropriate treatment, for them, we will drop the crime detail columns that have just the total number. For this analysis, it is more useful to utilise the columns that have the crime detail \"Per Population\" (per 100K of the town's overall population). This will be more useful when we begin to compare attributes."
   ]
  },
  {
   "cell_type": "code",
   "execution_count": 13,
   "metadata": {},
   "outputs": [
    {
     "data": {
      "text/plain": [
       "Index(['nonViolPerPop', 'ViolentCrimesPerPop', 'arsonsPerPop', 'arsons',\n",
       "       'autoTheftPerPop', 'autoTheft', 'larcPerPop', 'larcenies',\n",
       "       'burglPerPop', 'burglaries', 'assaultPerPop', 'assaults', 'robbbPerPop',\n",
       "       'robberies', 'rapesPerPop', 'rapes', 'murdPerPop', 'murders',\n",
       "       'LemasPctOfficDrugUn', 'PctUsePubTrans', 'PopDens', 'LandArea',\n",
       "       'PctSameState85', 'PctSameCity85', 'PctSameHouse85', 'PctBornSameState',\n",
       "       'PctForeignBorn', 'NumStreet', 'NumInShelters', 'MedOwnCostPctIncNoMtg',\n",
       "       'MedOwnCostPctInc', 'MedRentPctHousInc', 'MedRent', 'RentQrange',\n",
       "       'RentHighQ', 'RentMedian', 'RentLowQ', 'OwnOccQrange', 'OwnOccHiQuart',\n",
       "       'OwnOccMedVal', 'OwnOccLowQuart', 'PctWOFullPlumb', 'PctHousNoPhone',\n",
       "       'MedYrHousBuilt', 'PctVacMore6Mos', 'PctVacantBoarded', 'PctHousOwnOcc',\n",
       "       'PctHousOccup', 'HousVacant', 'MedNumBR', 'PctHousLess3BR',\n",
       "       'PctPersDenseHous', 'PctPersOwnOccup', 'PersPerRentOccHous',\n",
       "       'PersPerOwnOccHous', 'PersPerOccupHous', 'PctLargHouseOccup',\n",
       "       'PctLargHouseFam', 'PctNotSpeakEnglWell', 'PctSpeakEnglOnly',\n",
       "       'PctRecImmig10', 'PctRecImmig8', 'PctRecImmig5', 'PctRecentImmig',\n",
       "       'PctImmigRec10', 'PctImmigRec8', 'PctImmigRec5', 'PctImmigRecent',\n",
       "       'NumImmig', 'PctKidsBornNeverMar', 'NumKidsBornNeverMar', 'PctWorkMom',\n",
       "       'PctWorkMomYoungKids', 'PctTeen2Par', 'PctYoungKids2Par', 'PctKids2Par',\n",
       "       'PctFam2Par', 'PersPerFam', 'TotalPctDiv', 'FemalePctDiv',\n",
       "       'MalePctNevMarr', 'MalePctDivorce', 'PctOccupMgmtProf', 'PctOccupManu',\n",
       "       'PctEmplProfServ', 'PctEmplManu', 'PctEmploy', 'PctUnemployed',\n",
       "       'PctBSorMore', 'PctNotHSGrad', 'PctLess9thGrade', 'PctPopUnderPov',\n",
       "       'NumUnderPov', 'HispPerCap', 'OtherPerCap', 'AsianPerCap',\n",
       "       'indianPerCap', 'blackPerCap', 'whitePerCap', 'perCapInc', 'medFamInc',\n",
       "       'pctWRetire', 'pctWPubAsst', 'pctWSocSec', 'pctWInvInc', 'pctWFarmSelf',\n",
       "       'pctWWage', 'medIncome', 'pctUrban', 'numbUrban', 'agePct65up',\n",
       "       'agePct16t24', 'agePct12t29', 'agePct12t21', 'racePctHisp',\n",
       "       'racePctAsian', 'racePctWhite', 'racepctblack', 'householdsize',\n",
       "       'population', 'state', 'communityName'],\n",
       "      dtype='object')"
      ]
     },
     "execution_count": 13,
     "metadata": {},
     "output_type": "execute_result"
    }
   ],
   "source": [
    "pd.set_option(\"display.max_seq_items\", 500)\n",
    "data.columns[::-1]"
   ]
  },
  {
   "attachments": {},
   "cell_type": "markdown",
   "metadata": {},
   "source": [
    "We can also see that there are specific attributes of the city, such as the number of people born in the same state, that are not going to be included in this analysis. These columns will also be dropped."
   ]
  },
  {
   "cell_type": "code",
   "execution_count": 14,
   "metadata": {},
   "outputs": [],
   "source": [
    "#'NumKidsBornNeverMar', 'PctKids2Par', 'medFamInc', 'pctWWage', 'PolicCars', 'PctWorkMomYoungKids','PctImmigRec10','FemalePctDiv','MalePctDivorce'"
   ]
  },
  {
   "cell_type": "code",
   "execution_count": 15,
   "metadata": {},
   "outputs": [],
   "source": [
    "# cols_to_drop = ['arsons','autoTheft','larcenies','burgalries','assaults','robberies','rapes','murders',\n",
    "#                 'PctBornSameState','PctSameHouse85','PctNotSpeakEnglWell', 'PctSpeakEnglOnly','PctRecImmig10',\n",
    "#                 'PctRecImmig8','PctRecentImmig','PctImmigRec8',\n",
    "#                 'PctImmigRecent','PctTeen2Par','PctYoungKids2Par',' MedNumBR','HousVacant','PctVacantBoarded',\n",
    "#                 'PctVacMore6Mos','MedYrHousBuilt','PctHousNoPhone','PctWOFullPlumb','OwnOccLowQuart','OwnOccMedVal',\n",
    "#                 'OwnOccHiQuart','RentLowQ','RentMedian','RentHighQ','MedRent','MedOwnCostPctInc','MedOwnCostPctIncNoMtg',\n",
    "#                 'LemasSwornFT','LemasSwFTFieldOps','LemasSwFTFieldPerPop','LemasTotalReq','LemasSwFTFieldPerPop',\n",
    "#                 'NumKindsDrugsSeiz',\n",
    "#                 'LemasGangUnitDeploy','OfficAssgnDrugUnits','numbUrban', 'pctWFarmSelf',\n",
    "#                 'pctWInvInc', 'pctWSocSec', 'pctWPubAsst', 'pctWRetire', 'NumUnderPov', 'PctLess9thGrade',\n",
    "#                 'PctEmplManu', 'PctOccupManu', 'PctEmplProfServ','OtherPerCap']\n",
    "# len(cols_to_drop)\n",
    "#data.drop"
   ]
  },
  {
   "attachments": {},
   "cell_type": "markdown",
   "metadata": {},
   "source": [
    "Target categories for the analysis:\n",
    "* Police presence in the community\n",
    "* Homelessness rates\n",
    "* Household income\n",
    "* Level of Education\n",
    "* Family unit structure\n",
    "* Race prevalence\n",
    "* Proportion of immigrants\n",
    "* Employment/Unemployment"
   ]
  },
  {
   "cell_type": "code",
   "execution_count": 16,
   "metadata": {},
   "outputs": [],
   "source": [
    "# current_cols = data.columns.tolist()\n",
    "\n",
    "# for col in cols_to_drop:\n",
    "#     if col in current_cols:\n",
    "#         data.drop(columns=col, inplace=True)"
   ]
  },
  {
   "cell_type": "code",
   "execution_count": 17,
   "metadata": {},
   "outputs": [
    {
     "data": {
      "text/plain": [
       "(2215, 122)"
      ]
     },
     "execution_count": 17,
     "metadata": {},
     "output_type": "execute_result"
    }
   ],
   "source": [
    "data.shape"
   ]
  },
  {
   "cell_type": "code",
   "execution_count": 18,
   "metadata": {},
   "outputs": [
    {
     "data": {
      "text/plain": [
       "Index(['communityName', 'state', 'population', 'householdsize', 'racepctblack',\n",
       "       'racePctWhite', 'racePctAsian', 'racePctHisp', 'agePct12t21',\n",
       "       'agePct12t29',\n",
       "       ...\n",
       "       'burglaries', 'burglPerPop', 'larcenies', 'larcPerPop', 'autoTheft',\n",
       "       'autoTheftPerPop', 'arsons', 'arsonsPerPop', 'ViolentCrimesPerPop',\n",
       "       'nonViolPerPop'],\n",
       "      dtype='object', length=122)"
      ]
     },
     "execution_count": 18,
     "metadata": {},
     "output_type": "execute_result"
    }
   ],
   "source": [
    "pd.set_option(\"display.max_seq_items\", 100)\n",
    "data.columns"
   ]
  },
  {
   "attachments": {},
   "cell_type": "markdown",
   "metadata": {},
   "source": [
    "We are probably only interested in the proportion of violent and non-violent crimes per 100k population. We don't need much more crime detail than that so we wil delete crime detail columns. "
   ]
  },
  {
   "cell_type": "code",
   "execution_count": 19,
   "metadata": {},
   "outputs": [
    {
     "data": {
      "text/plain": [
       "(2215, 105)"
      ]
     },
     "execution_count": 19,
     "metadata": {},
     "output_type": "execute_result"
    }
   ],
   "source": [
    "cd_cols_to_drop = ['arsons','autoTheft','larcenies','burglaries','assaults','robberies','rapes','murders',\n",
    "                   'murdPerPop', 'rapesPerPop', 'robbbPerPop', 'assaultPerPop',\n",
    "                   'burglPerPop', 'larcPerPop', 'autoTheftPerPop','arsonsPerPop','OtherPerCap']\n",
    "data.drop(columns=cd_cols_to_drop, inplace=True)\n",
    "data.shape"
   ]
  },
  {
   "attachments": {},
   "cell_type": "markdown",
   "metadata": {},
   "source": [
    "Now we've selected our potential columns of interest, let's return to dealing with the remaining missing values in our selected features."
   ]
  },
  {
   "cell_type": "code",
   "execution_count": 20,
   "metadata": {},
   "outputs": [
    {
     "data": {
      "text/plain": [
       "ViolentCrimesPerPop    221\n",
       "nonViolPerPop           97\n",
       "PersPerOwnOccHous        0\n",
       "PctVacMore6Mos           0\n",
       "PctVacantBoarded         0\n",
       "                      ... \n",
       "PctBSorMore              0\n",
       "PctNotHSGrad             0\n",
       "PctLess9thGrade          0\n",
       "PctPopUnderPov           0\n",
       "NumImmig                 0\n",
       "Length: 105, dtype: int64"
      ]
     },
     "execution_count": 20,
     "metadata": {},
     "output_type": "execute_result"
    }
   ],
   "source": [
    "data.isnull().sum().sort_values(ascending=False)"
   ]
  },
  {
   "attachments": {},
   "cell_type": "markdown",
   "metadata": {},
   "source": [
    "Unfortunately, the two remaining variables with missing values are our predicter variables. Let's assess the distribution of these columns using a uni-variate analysis before we decide what to do with the missing values."
   ]
  },
  {
   "cell_type": "code",
   "execution_count": 21,
   "metadata": {},
   "outputs": [
    {
     "data": {
      "text/plain": [
       "<AxesSubplot:xlabel='ViolentCrimesPerPop'>"
      ]
     },
     "execution_count": 21,
     "metadata": {},
     "output_type": "execute_result"
    },
    {
     "data": {
      "image/png": "[encoded data removed]",
      "text/plain": [
       "<Figure size 432x288 with 1 Axes>"
      ]
     },
     "metadata": {
      "needs_background": "light"
     },
     "output_type": "display_data"
    }
   ],
   "source": [
    "sns.boxplot(data=data, x='ViolentCrimesPerPop')"
   ]
  },
  {
   "cell_type": "code",
   "execution_count": 22,
   "metadata": {},
   "outputs": [
    {
     "data": {
      "text/plain": [
       "<AxesSubplot:xlabel='nonViolPerPop'>"
      ]
     },
     "execution_count": 22,
     "metadata": {},
     "output_type": "execute_result"
    },
    {
     "data": {
      "image/png": "[encoded data removed]",
      "text/plain": [
       "<Figure size 432x288 with 1 Axes>"
      ]
     },
     "metadata": {
      "needs_background": "light"
     },
     "output_type": "display_data"
    }
   ],
   "source": [
    "sns.boxplot(data=data, x='nonViolPerPop')"
   ]
  },
  {
   "attachments": {},
   "cell_type": "markdown",
   "metadata": {},
   "source": [
    "As we can see from both of these plts, we have some data points that are plotted outside of the box plot area and that greatly deviate from the rest of the population. As we're essentially trying to understand what drives violent and non violent crime in communities, these outlier numbers may provide us with insight later on. Nevertheless lets replace the missing values with the median since our data appears to be widely distributed."
   ]
  },
  {
   "cell_type": "code",
   "execution_count": 23,
   "metadata": {},
   "outputs": [
    {
     "name": "stdout",
     "output_type": "stream",
     "text": [
      "Non Violent Crimes mean: 4908.241803588291\n",
      "Non Violent Crimes median: 4425.450000000001\n",
      "Violent Crimes mean: 589.0789217652964\n",
      "Violent Crimes median: 374.06\n"
     ]
    }
   ],
   "source": [
    "nonViol_mean = np.mean(data.nonViolPerPop)\n",
    "nonViol_median = data.nonViolPerPop.median()\n",
    "\n",
    "viol_mean = np.mean(data.ViolentCrimesPerPop)\n",
    "viol_median = data.ViolentCrimesPerPop.median()\n",
    "\n",
    "print(f\"Non Violent Crimes mean: {nonViol_mean}\")\n",
    "print(f\"Non Violent Crimes median: {nonViol_median}\")\n",
    "print(f\"Violent Crimes mean: {viol_mean}\")\n",
    "print(f\"Violent Crimes median: {viol_median}\")"
   ]
  },
  {
   "cell_type": "code",
   "execution_count": 24,
   "metadata": {},
   "outputs": [
    {
     "name": "stdout",
     "output_type": "stream",
     "text": [
      "Number of missing values in dataset: 0\n"
     ]
    }
   ],
   "source": [
    "data.nonViolPerPop.fillna(nonViol_median, inplace=True)\n",
    "data.ViolentCrimesPerPop.fillna(viol_median, inplace=True)\n",
    "print(f\"Number of missing values in dataset: {data.isnull().sum().sum()}\")"
   ]
  },
  {
   "attachments": {},
   "cell_type": "markdown",
   "metadata": {},
   "source": [
    "### Checking for Duplicates"
   ]
  },
  {
   "attachments": {},
   "cell_type": "markdown",
   "metadata": {},
   "source": [
    "There should only be one record per community and state combination. Let's check there are no duplicate records for this."
   ]
  },
  {
   "cell_type": "code",
   "execution_count": 25,
   "metadata": {},
   "outputs": [
    {
     "data": {
      "text/html": [
       "<div>\n",
       "<style scoped>\n",
       "    .dataframe tbody tr th:only-of-type {\n",
       "        vertical-align: middle;\n",
       "    }\n",
       "\n",
       "    .dataframe tbody tr th {\n",
       "        vertical-align: top;\n",
       "    }\n",
       "\n",
       "    .dataframe thead th {\n",
       "        text-align: right;\n",
       "    }\n",
       "</style>\n",
       "<table border=\"1\" class=\"dataframe\">\n",
       "  <thead>\n",
       "    <tr style=\"text-align: right;\">\n",
       "      <th></th>\n",
       "      <th>communityName</th>\n",
       "      <th>state</th>\n",
       "      <th>population</th>\n",
       "      <th>householdsize</th>\n",
       "      <th>racepctblack</th>\n",
       "      <th>racePctWhite</th>\n",
       "      <th>racePctAsian</th>\n",
       "      <th>racePctHisp</th>\n",
       "      <th>agePct12t21</th>\n",
       "      <th>agePct12t29</th>\n",
       "      <th>agePct16t24</th>\n",
       "      <th>agePct65up</th>\n",
       "      <th>numbUrban</th>\n",
       "      <th>pctUrban</th>\n",
       "      <th>medIncome</th>\n",
       "      <th>pctWWage</th>\n",
       "      <th>pctWFarmSelf</th>\n",
       "      <th>pctWInvInc</th>\n",
       "      <th>pctWSocSec</th>\n",
       "      <th>pctWPubAsst</th>\n",
       "      <th>pctWRetire</th>\n",
       "      <th>medFamInc</th>\n",
       "      <th>perCapInc</th>\n",
       "      <th>whitePerCap</th>\n",
       "      <th>blackPerCap</th>\n",
       "      <th>indianPerCap</th>\n",
       "      <th>AsianPerCap</th>\n",
       "      <th>HispPerCap</th>\n",
       "      <th>NumUnderPov</th>\n",
       "      <th>PctPopUnderPov</th>\n",
       "      <th>PctLess9thGrade</th>\n",
       "      <th>PctNotHSGrad</th>\n",
       "      <th>PctBSorMore</th>\n",
       "      <th>PctUnemployed</th>\n",
       "      <th>PctEmploy</th>\n",
       "      <th>PctEmplManu</th>\n",
       "      <th>PctEmplProfServ</th>\n",
       "      <th>PctOccupManu</th>\n",
       "      <th>PctOccupMgmtProf</th>\n",
       "      <th>MalePctDivorce</th>\n",
       "      <th>MalePctNevMarr</th>\n",
       "      <th>FemalePctDiv</th>\n",
       "      <th>TotalPctDiv</th>\n",
       "      <th>PersPerFam</th>\n",
       "      <th>PctFam2Par</th>\n",
       "      <th>PctKids2Par</th>\n",
       "      <th>PctYoungKids2Par</th>\n",
       "      <th>PctTeen2Par</th>\n",
       "      <th>PctWorkMomYoungKids</th>\n",
       "      <th>PctWorkMom</th>\n",
       "      <th>NumKidsBornNeverMar</th>\n",
       "      <th>PctKidsBornNeverMar</th>\n",
       "      <th>NumImmig</th>\n",
       "      <th>PctImmigRecent</th>\n",
       "      <th>PctImmigRec5</th>\n",
       "      <th>PctImmigRec8</th>\n",
       "      <th>PctImmigRec10</th>\n",
       "      <th>PctRecentImmig</th>\n",
       "      <th>PctRecImmig5</th>\n",
       "      <th>PctRecImmig8</th>\n",
       "      <th>PctRecImmig10</th>\n",
       "      <th>PctSpeakEnglOnly</th>\n",
       "      <th>PctNotSpeakEnglWell</th>\n",
       "      <th>PctLargHouseFam</th>\n",
       "      <th>PctLargHouseOccup</th>\n",
       "      <th>PersPerOccupHous</th>\n",
       "      <th>PersPerOwnOccHous</th>\n",
       "      <th>PersPerRentOccHous</th>\n",
       "      <th>PctPersOwnOccup</th>\n",
       "      <th>PctPersDenseHous</th>\n",
       "      <th>PctHousLess3BR</th>\n",
       "      <th>MedNumBR</th>\n",
       "      <th>HousVacant</th>\n",
       "      <th>PctHousOccup</th>\n",
       "      <th>PctHousOwnOcc</th>\n",
       "      <th>PctVacantBoarded</th>\n",
       "      <th>PctVacMore6Mos</th>\n",
       "      <th>MedYrHousBuilt</th>\n",
       "      <th>PctHousNoPhone</th>\n",
       "      <th>PctWOFullPlumb</th>\n",
       "      <th>OwnOccLowQuart</th>\n",
       "      <th>OwnOccMedVal</th>\n",
       "      <th>OwnOccHiQuart</th>\n",
       "      <th>OwnOccQrange</th>\n",
       "      <th>RentLowQ</th>\n",
       "      <th>RentMedian</th>\n",
       "      <th>RentHighQ</th>\n",
       "      <th>RentQrange</th>\n",
       "      <th>MedRent</th>\n",
       "      <th>MedRentPctHousInc</th>\n",
       "      <th>MedOwnCostPctInc</th>\n",
       "      <th>MedOwnCostPctIncNoMtg</th>\n",
       "      <th>NumInShelters</th>\n",
       "      <th>NumStreet</th>\n",
       "      <th>PctForeignBorn</th>\n",
       "      <th>PctBornSameState</th>\n",
       "      <th>PctSameHouse85</th>\n",
       "      <th>PctSameCity85</th>\n",
       "      <th>PctSameState85</th>\n",
       "      <th>LandArea</th>\n",
       "      <th>PopDens</th>\n",
       "      <th>PctUsePubTrans</th>\n",
       "      <th>LemasPctOfficDrugUn</th>\n",
       "      <th>ViolentCrimesPerPop</th>\n",
       "      <th>nonViolPerPop</th>\n",
       "    </tr>\n",
       "  </thead>\n",
       "  <tbody>\n",
       "  </tbody>\n",
       "</table>\n",
       "</div>"
      ],
      "text/plain": [
       "Empty DataFrame\n",
       "Columns: [communityName, state, population, householdsize, racepctblack, racePctWhite, racePctAsian, racePctHisp, agePct12t21, agePct12t29, agePct16t24, agePct65up, numbUrban, pctUrban, medIncome, pctWWage, pctWFarmSelf, pctWInvInc, pctWSocSec, pctWPubAsst, pctWRetire, medFamInc, perCapInc, whitePerCap, blackPerCap, indianPerCap, AsianPerCap, HispPerCap, NumUnderPov, PctPopUnderPov, PctLess9thGrade, PctNotHSGrad, PctBSorMore, PctUnemployed, PctEmploy, PctEmplManu, PctEmplProfServ, PctOccupManu, PctOccupMgmtProf, MalePctDivorce, MalePctNevMarr, FemalePctDiv, TotalPctDiv, PersPerFam, PctFam2Par, PctKids2Par, PctYoungKids2Par, PctTeen2Par, PctWorkMomYoungKids, PctWorkMom, NumKidsBornNeverMar, PctKidsBornNeverMar, NumImmig, PctImmigRecent, PctImmigRec5, PctImmigRec8, PctImmigRec10, PctRecentImmig, PctRecImmig5, PctRecImmig8, PctRecImmig10, PctSpeakEnglOnly, PctNotSpeakEnglWell, PctLargHouseFam, PctLargHouseOccup, PersPerOccupHous, PersPerOwnOccHous, PersPerRentOccHous, PctPersOwnOccup, PctPersDenseHous, PctHousLess3BR, MedNumBR, HousVacant, PctHousOccup, PctHousOwnOcc, PctVacantBoarded, PctVacMore6Mos, MedYrHousBuilt, PctHousNoPhone, PctWOFullPlumb, OwnOccLowQuart, OwnOccMedVal, OwnOccHiQuart, OwnOccQrange, RentLowQ, RentMedian, RentHighQ, RentQrange, MedRent, MedRentPctHousInc, MedOwnCostPctInc, MedOwnCostPctIncNoMtg, NumInShelters, NumStreet, PctForeignBorn, PctBornSameState, PctSameHouse85, PctSameCity85, PctSameState85, LandArea, ...]\n",
       "Index: []"
      ]
     },
     "execution_count": 25,
     "metadata": {},
     "output_type": "execute_result"
    }
   ],
   "source": [
    "data[data[['communityName', 'state']].duplicated()]"
   ]
  },
  {
   "attachments": {},
   "cell_type": "markdown",
   "metadata": {},
   "source": [
    "### Correlation Assessment"
   ]
  },
  {
   "attachments": {},
   "cell_type": "markdown",
   "metadata": {},
   "source": [
    "Before we proceed with any data cleaning of our new dataset, it is useful to establish a correlation between the response variables (in our case the non violent and violent crime rates per 100K population) and other predictor variables, as some of them might not have any major impact in determining the rate of crime and will not be used in the analysis. Below, we will use the `corr()` function to list the top features based on the pearson correlation coefficient, which measures how closely two sets of numbers are correlated."
   ]
  },
  {
   "cell_type": "code",
   "execution_count": 26,
   "metadata": {},
   "outputs": [
    {
     "name": "stdout",
     "output_type": "stream",
     "text": [
      "There are 12 features strongly correlated with the Violent Crime rate: \n",
      "PctKidsBornNeverMar    0.686665\n",
      "nonViolPerPop          0.627124\n",
      "racepctblack           0.590580\n",
      "FemalePctDiv           0.513018\n",
      "TotalPctDiv            0.511019\n",
      "pctWPubAsst            0.507611\n",
      "pctWInvInc            -0.534563\n",
      "PctYoungKids2Par      -0.611884\n",
      "PctTeen2Par           -0.616963\n",
      "racePctWhite          -0.647164\n",
      "PctFam2Par            -0.649762\n",
      "PctKids2Par           -0.684059\n",
      "Name: ViolentCrimesPerPop, dtype: float64\n"
     ]
    }
   ],
   "source": [
    "crime_nums = data.select_dtypes(include=['float64','int64'])\n",
    "viol_crime_nums_corr = crime_nums.corr()['ViolentCrimesPerPop']\n",
    "top_features_viol = viol_crime_nums_corr[(abs(viol_crime_nums_corr) > 0.5) & (viol_crime_nums_corr != 1)].sort_values(ascending=False)\n",
    "print(f\"There are {len(top_features_viol)} features strongly correlated with the Violent Crime rate: \\n{top_features_viol}\")"
   ]
  },
  {
   "cell_type": "code",
   "execution_count": 27,
   "metadata": {},
   "outputs": [
    {
     "name": "stdout",
     "output_type": "stream",
     "text": [
      "There are 10 features strongly correlated with the Non Violent Crime rate: \n",
      "ViolentCrimesPerPop    0.627124\n",
      "TotalPctDiv            0.596741\n",
      "FemalePctDiv           0.589553\n",
      "MalePctDivorce         0.576979\n",
      "PctKidsBornNeverMar    0.543926\n",
      "PctPopUnderPov         0.503480\n",
      "PctYoungKids2Par      -0.598805\n",
      "PctTeen2Par           -0.608651\n",
      "PctFam2Par            -0.645484\n",
      "PctKids2Par           -0.653018\n",
      "Name: nonViolPerPop, dtype: float64\n"
     ]
    }
   ],
   "source": [
    "nonviol_crime_nums_corr = crime_nums.corr()['nonViolPerPop']\n",
    "top_features_nonviol = nonviol_crime_nums_corr[(abs(nonviol_crime_nums_corr) > 0.5) & (nonviol_crime_nums_corr != 1)].sort_values(ascending=False)\n",
    "print(f\"There are {len(top_features_nonviol)} features strongly correlated with the Non Violent Crime rate: \\n{top_features_nonviol}\")"
   ]
  },
  {
   "attachments": {},
   "cell_type": "markdown",
   "metadata": {},
   "source": [
    "Let's visualise these relationships using pairplots. We can also then use the pairplots to identify any potential outliers."
   ]
  },
  {
   "cell_type": "code",
   "execution_count": 28,
   "metadata": {},
   "outputs": [],
   "source": [
    "top_features_viol_cols = pd.DataFrame(top_features_viol).transpose().columns.tolist()\n",
    "top_features_viol_cols.append('ViolentCrimesPerPop')\n",
    "top_features_viol_df = data.loc[:, [i for i in top_features_viol_cols]]"
   ]
  },
  {
   "cell_type": "code",
   "execution_count": 29,
   "metadata": {},
   "outputs": [
    {
     "data": {
      "text/html": [
       "<div>\n",
       "<style scoped>\n",
       "    .dataframe tbody tr th:only-of-type {\n",
       "        vertical-align: middle;\n",
       "    }\n",
       "\n",
       "    .dataframe tbody tr th {\n",
       "        vertical-align: top;\n",
       "    }\n",
       "\n",
       "    .dataframe thead th {\n",
       "        text-align: right;\n",
       "    }\n",
       "</style>\n",
       "<table border=\"1\" class=\"dataframe\">\n",
       "  <thead>\n",
       "    <tr style=\"text-align: right;\">\n",
       "      <th></th>\n",
       "      <th>PctKidsBornNeverMar</th>\n",
       "      <th>nonViolPerPop</th>\n",
       "      <th>racepctblack</th>\n",
       "      <th>FemalePctDiv</th>\n",
       "      <th>TotalPctDiv</th>\n",
       "      <th>pctWPubAsst</th>\n",
       "      <th>pctWInvInc</th>\n",
       "      <th>PctYoungKids2Par</th>\n",
       "      <th>PctTeen2Par</th>\n",
       "      <th>racePctWhite</th>\n",
       "      <th>PctFam2Par</th>\n",
       "      <th>PctKids2Par</th>\n",
       "      <th>ViolentCrimesPerPop</th>\n",
       "    </tr>\n",
       "  </thead>\n",
       "  <tbody>\n",
       "    <tr>\n",
       "      <th>0</th>\n",
       "      <td>0.36</td>\n",
       "      <td>1394.59</td>\n",
       "      <td>1.37</td>\n",
       "      <td>5.22</td>\n",
       "      <td>4.47</td>\n",
       "      <td>1.03</td>\n",
       "      <td>70.20</td>\n",
       "      <td>95.78</td>\n",
       "      <td>95.81</td>\n",
       "      <td>91.78</td>\n",
       "      <td>91.43</td>\n",
       "      <td>90.17</td>\n",
       "      <td>41.02</td>\n",
       "    </tr>\n",
       "    <tr>\n",
       "      <th>1</th>\n",
       "      <td>0.24</td>\n",
       "      <td>1955.95</td>\n",
       "      <td>0.80</td>\n",
       "      <td>6.45</td>\n",
       "      <td>5.42</td>\n",
       "      <td>2.75</td>\n",
       "      <td>64.11</td>\n",
       "      <td>96.82</td>\n",
       "      <td>86.46</td>\n",
       "      <td>95.57</td>\n",
       "      <td>86.91</td>\n",
       "      <td>85.33</td>\n",
       "      <td>127.56</td>\n",
       "    </tr>\n",
       "    <tr>\n",
       "      <th>2</th>\n",
       "      <td>0.88</td>\n",
       "      <td>6167.51</td>\n",
       "      <td>0.74</td>\n",
       "      <td>14.76</td>\n",
       "      <td>12.55</td>\n",
       "      <td>2.94</td>\n",
       "      <td>55.73</td>\n",
       "      <td>92.37</td>\n",
       "      <td>75.72</td>\n",
       "      <td>94.33</td>\n",
       "      <td>78.54</td>\n",
       "      <td>78.85</td>\n",
       "      <td>218.59</td>\n",
       "    </tr>\n",
       "  </tbody>\n",
       "</table>\n",
       "</div>"
      ],
      "text/plain": [
       "   PctKidsBornNeverMar  nonViolPerPop  racepctblack  FemalePctDiv  \\\n",
       "0                 0.36        1394.59          1.37          5.22   \n",
       "1                 0.24        1955.95          0.80          6.45   \n",
       "2                 0.88        6167.51          0.74         14.76   \n",
       "\n",
       "   TotalPctDiv  pctWPubAsst  pctWInvInc  PctYoungKids2Par  PctTeen2Par  \\\n",
       "0         4.47         1.03       70.20             95.78        95.81   \n",
       "1         5.42         2.75       64.11             96.82        86.46   \n",
       "2        12.55         2.94       55.73             92.37        75.72   \n",
       "\n",
       "   racePctWhite  PctFam2Par  PctKids2Par  ViolentCrimesPerPop  \n",
       "0         91.78       91.43        90.17                41.02  \n",
       "1         95.57       86.91        85.33               127.56  \n",
       "2         94.33       78.54        78.85               218.59  "
      ]
     },
     "execution_count": 29,
     "metadata": {},
     "output_type": "execute_result"
    }
   ],
   "source": [
    "top_features_viol_df.head(3)"
   ]
  },
  {
   "cell_type": "code",
   "execution_count": 30,
   "metadata": {},
   "outputs": [
    {
     "data": {
      "text/plain": [
       "Index(['PctKidsBornNeverMar', 'nonViolPerPop', 'racepctblack', 'FemalePctDiv',\n",
       "       'TotalPctDiv', 'pctWPubAsst', 'pctWInvInc', 'PctYoungKids2Par',\n",
       "       'PctTeen2Par', 'racePctWhite', 'PctFam2Par', 'PctKids2Par',\n",
       "       'ViolentCrimesPerPop'],\n",
       "      dtype='object')"
      ]
     },
     "execution_count": 30,
     "metadata": {},
     "output_type": "execute_result"
    }
   ],
   "source": [
    "top_features_viol_df.columns"
   ]
  },
  {
   "cell_type": "code",
   "execution_count": 31,
   "metadata": {},
   "outputs": [
    {
     "data": {
      "image/png": "[encoded data removed]",
      "text/plain": [
       "<Figure size 720x180 with 4 Axes>"
      ]
     },
     "metadata": {
      "needs_background": "light"
     },
     "output_type": "display_data"
    },
    {
     "data": {
      "image/png": "[encoded data removed]",
      "text/plain": [
       "<Figure size 720x180 with 4 Axes>"
      ]
     },
     "metadata": {
      "needs_background": "light"
     },
     "output_type": "display_data"
    },
    {
     "data": {
      "image/png": "[encoded data removed]",
      "text/plain": [
       "<Figure size 720x180 with 4 Axes>"
      ]
     },
     "metadata": {
      "needs_background": "light"
     },
     "output_type": "display_data"
    }
   ],
   "source": [
    "for i in range(0, len(top_features_viol_cols[:12]),4):\n",
    "    sns.pairplot(data=top_features_viol_df, \n",
    "                 x_vars=top_features_viol_df.columns[i:i+4], \n",
    "                 y_vars=['ViolentCrimesPerPop'])"
   ]
  },
  {
   "attachments": {},
   "cell_type": "markdown",
   "metadata": {},
   "source": [
    "#### Outliers for strongly correlated features to violent crimes"
   ]
  },
  {
   "attachments": {},
   "cell_type": "markdown",
   "metadata": {},
   "source": [
    "Let's use the zscore to remove the outliers in some of our columns for our new **violent crimes** dataset."
   ]
  },
  {
   "cell_type": "code",
   "execution_count": 32,
   "metadata": {},
   "outputs": [
    {
     "data": {
      "text/html": [
       "<div>\n",
       "<style scoped>\n",
       "    .dataframe tbody tr th:only-of-type {\n",
       "        vertical-align: middle;\n",
       "    }\n",
       "\n",
       "    .dataframe tbody tr th {\n",
       "        vertical-align: top;\n",
       "    }\n",
       "\n",
       "    .dataframe thead th {\n",
       "        text-align: right;\n",
       "    }\n",
       "</style>\n",
       "<table border=\"1\" class=\"dataframe\">\n",
       "  <thead>\n",
       "    <tr style=\"text-align: right;\">\n",
       "      <th></th>\n",
       "      <th>PctKidsBornNeverMar</th>\n",
       "      <th>zscore</th>\n",
       "    </tr>\n",
       "  </thead>\n",
       "  <tbody>\n",
       "    <tr>\n",
       "      <th>count</th>\n",
       "      <td>2215.000</td>\n",
       "      <td>2215.000</td>\n",
       "    </tr>\n",
       "    <tr>\n",
       "      <th>mean</th>\n",
       "      <td>3.115</td>\n",
       "      <td>0.000</td>\n",
       "    </tr>\n",
       "    <tr>\n",
       "      <th>std</th>\n",
       "      <td>3.128</td>\n",
       "      <td>1.000</td>\n",
       "    </tr>\n",
       "    <tr>\n",
       "      <th>min</th>\n",
       "      <td>0.000</td>\n",
       "      <td>-0.996</td>\n",
       "    </tr>\n",
       "    <tr>\n",
       "      <th>25%</th>\n",
       "      <td>1.070</td>\n",
       "      <td>-0.654</td>\n",
       "    </tr>\n",
       "    <tr>\n",
       "      <th>50%</th>\n",
       "      <td>2.040</td>\n",
       "      <td>-0.344</td>\n",
       "    </tr>\n",
       "    <tr>\n",
       "      <th>75%</th>\n",
       "      <td>3.910</td>\n",
       "      <td>0.254</td>\n",
       "    </tr>\n",
       "    <tr>\n",
       "      <th>max</th>\n",
       "      <td>27.350</td>\n",
       "      <td>7.750</td>\n",
       "    </tr>\n",
       "  </tbody>\n",
       "</table>\n",
       "</div>"
      ],
      "text/plain": [
       "       PctKidsBornNeverMar    zscore\n",
       "count             2215.000  2215.000\n",
       "mean                 3.115     0.000\n",
       "std                  3.128     1.000\n",
       "min                  0.000    -0.996\n",
       "25%                  1.070    -0.654\n",
       "50%                  2.040    -0.344\n",
       "75%                  3.910     0.254\n",
       "max                 27.350     7.750"
      ]
     },
     "execution_count": 32,
     "metadata": {},
     "output_type": "execute_result"
    }
   ],
   "source": [
    "PctKidsBornNeverMar_stats = top_features_viol_df.loc[:,['PctKidsBornNeverMar']]\n",
    "PctKidsBornNeverMar_stats['zscore'] = stats.zscore(PctKidsBornNeverMar_stats['PctKidsBornNeverMar'])\n",
    "PctKidsBornNeverMar_stats.describe().round(3)\n"
   ]
  },
  {
   "cell_type": "code",
   "execution_count": 33,
   "metadata": {},
   "outputs": [
    {
     "data": {
      "text/html": [
       "<div>\n",
       "<style scoped>\n",
       "    .dataframe tbody tr th:only-of-type {\n",
       "        vertical-align: middle;\n",
       "    }\n",
       "\n",
       "    .dataframe tbody tr th {\n",
       "        vertical-align: top;\n",
       "    }\n",
       "\n",
       "    .dataframe thead th {\n",
       "        text-align: right;\n",
       "    }\n",
       "</style>\n",
       "<table border=\"1\" class=\"dataframe\">\n",
       "  <thead>\n",
       "    <tr style=\"text-align: right;\">\n",
       "      <th></th>\n",
       "      <th>PctKidsBornNeverMar</th>\n",
       "      <th>zscore</th>\n",
       "    </tr>\n",
       "  </thead>\n",
       "  <tbody>\n",
       "    <tr>\n",
       "      <th>1705</th>\n",
       "      <td>27.35</td>\n",
       "      <td>7.750141</td>\n",
       "    </tr>\n",
       "    <tr>\n",
       "      <th>720</th>\n",
       "      <td>24.19</td>\n",
       "      <td>6.739580</td>\n",
       "    </tr>\n",
       "    <tr>\n",
       "      <th>2068</th>\n",
       "      <td>21.31</td>\n",
       "      <td>5.818562</td>\n",
       "    </tr>\n",
       "    <tr>\n",
       "      <th>1470</th>\n",
       "      <td>20.80</td>\n",
       "      <td>5.655465</td>\n",
       "    </tr>\n",
       "    <tr>\n",
       "      <th>1213</th>\n",
       "      <td>20.00</td>\n",
       "      <td>5.399627</td>\n",
       "    </tr>\n",
       "    <tr>\n",
       "      <th>...</th>\n",
       "      <td>...</td>\n",
       "      <td>...</td>\n",
       "    </tr>\n",
       "    <tr>\n",
       "      <th>862</th>\n",
       "      <td>0.00</td>\n",
       "      <td>-0.996330</td>\n",
       "    </tr>\n",
       "    <tr>\n",
       "      <th>1479</th>\n",
       "      <td>0.00</td>\n",
       "      <td>-0.996330</td>\n",
       "    </tr>\n",
       "    <tr>\n",
       "      <th>1735</th>\n",
       "      <td>0.00</td>\n",
       "      <td>-0.996330</td>\n",
       "    </tr>\n",
       "    <tr>\n",
       "      <th>625</th>\n",
       "      <td>0.00</td>\n",
       "      <td>-0.996330</td>\n",
       "    </tr>\n",
       "    <tr>\n",
       "      <th>1965</th>\n",
       "      <td>0.00</td>\n",
       "      <td>-0.996330</td>\n",
       "    </tr>\n",
       "  </tbody>\n",
       "</table>\n",
       "<p>2215 rows × 2 columns</p>\n",
       "</div>"
      ],
      "text/plain": [
       "      PctKidsBornNeverMar    zscore\n",
       "1705                27.35  7.750141\n",
       "720                 24.19  6.739580\n",
       "2068                21.31  5.818562\n",
       "1470                20.80  5.655465\n",
       "1213                20.00  5.399627\n",
       "...                   ...       ...\n",
       "862                  0.00 -0.996330\n",
       "1479                 0.00 -0.996330\n",
       "1735                 0.00 -0.996330\n",
       "625                  0.00 -0.996330\n",
       "1965                 0.00 -0.996330\n",
       "\n",
       "[2215 rows x 2 columns]"
      ]
     },
     "execution_count": 33,
     "metadata": {},
     "output_type": "execute_result"
    }
   ],
   "source": [
    "PctKidsBornNeverMar_stats.sort_values(by='zscore', ascending=False) "
   ]
  },
  {
   "cell_type": "code",
   "execution_count": 34,
   "metadata": {},
   "outputs": [
    {
     "data": {
      "text/plain": [
       "<AxesSubplot:xlabel='PctKidsBornNeverMar', ylabel='ViolentCrimesPerPop'>"
      ]
     },
     "execution_count": 34,
     "metadata": {},
     "output_type": "execute_result"
    },
    {
     "data": {
      "image/png": "[encoded data removed]",
      "text/plain": [
       "<Figure size 432x288 with 1 Axes>"
      ]
     },
     "metadata": {
      "needs_background": "light"
     },
     "output_type": "display_data"
    }
   ],
   "source": [
    "data.drop(data.index[[1705, 720]], inplace=True)\n",
    "sns.scatterplot(data=data, x='PctKidsBornNeverMar', y='ViolentCrimesPerPop')\n"
   ]
  },
  {
   "cell_type": "code",
   "execution_count": 35,
   "metadata": {},
   "outputs": [
    {
     "data": {
      "text/html": [
       "<div>\n",
       "<style scoped>\n",
       "    .dataframe tbody tr th:only-of-type {\n",
       "        vertical-align: middle;\n",
       "    }\n",
       "\n",
       "    .dataframe tbody tr th {\n",
       "        vertical-align: top;\n",
       "    }\n",
       "\n",
       "    .dataframe thead th {\n",
       "        text-align: right;\n",
       "    }\n",
       "</style>\n",
       "<table border=\"1\" class=\"dataframe\">\n",
       "  <thead>\n",
       "    <tr style=\"text-align: right;\">\n",
       "      <th></th>\n",
       "      <th>pctWPubAsst</th>\n",
       "      <th>zscore</th>\n",
       "    </tr>\n",
       "  </thead>\n",
       "  <tbody>\n",
       "    <tr>\n",
       "      <th>count</th>\n",
       "      <td>2215.000000</td>\n",
       "      <td>2.215000e+03</td>\n",
       "    </tr>\n",
       "    <tr>\n",
       "      <th>mean</th>\n",
       "      <td>6.801445</td>\n",
       "      <td>-3.889540e-17</td>\n",
       "    </tr>\n",
       "    <tr>\n",
       "      <th>std</th>\n",
       "      <td>4.700335</td>\n",
       "      <td>1.000226e+00</td>\n",
       "    </tr>\n",
       "    <tr>\n",
       "      <th>min</th>\n",
       "      <td>0.180000</td>\n",
       "      <td>-1.409036e+00</td>\n",
       "    </tr>\n",
       "    <tr>\n",
       "      <th>25%</th>\n",
       "      <td>3.270000</td>\n",
       "      <td>-7.514873e-01</td>\n",
       "    </tr>\n",
       "    <tr>\n",
       "      <th>50%</th>\n",
       "      <td>5.610000</td>\n",
       "      <td>-2.535381e-01</td>\n",
       "    </tr>\n",
       "    <tr>\n",
       "      <th>75%</th>\n",
       "      <td>9.105000</td>\n",
       "      <td>4.901939e-01</td>\n",
       "    </tr>\n",
       "    <tr>\n",
       "      <th>max</th>\n",
       "      <td>44.820000</td>\n",
       "      <td>8.090305e+00</td>\n",
       "    </tr>\n",
       "  </tbody>\n",
       "</table>\n",
       "</div>"
      ],
      "text/plain": [
       "       pctWPubAsst        zscore\n",
       "count  2215.000000  2.215000e+03\n",
       "mean      6.801445 -3.889540e-17\n",
       "std       4.700335  1.000226e+00\n",
       "min       0.180000 -1.409036e+00\n",
       "25%       3.270000 -7.514873e-01\n",
       "50%       5.610000 -2.535381e-01\n",
       "75%       9.105000  4.901939e-01\n",
       "max      44.820000  8.090305e+00"
      ]
     },
     "execution_count": 35,
     "metadata": {},
     "output_type": "execute_result"
    }
   ],
   "source": [
    "pctWPubAsst_stats = top_features_viol_df.loc[:, [\"pctWPubAsst\"]]\n",
    "pctWPubAsst_stats[\"zscore\"] = stats.zscore(pctWPubAsst_stats[\"pctWPubAsst\"])\n",
    "pctWPubAsst_stats.describe()\n"
   ]
  },
  {
   "cell_type": "code",
   "execution_count": 36,
   "metadata": {},
   "outputs": [
    {
     "data": {
      "text/html": [
       "<div>\n",
       "<style scoped>\n",
       "    .dataframe tbody tr th:only-of-type {\n",
       "        vertical-align: middle;\n",
       "    }\n",
       "\n",
       "    .dataframe tbody tr th {\n",
       "        vertical-align: top;\n",
       "    }\n",
       "\n",
       "    .dataframe thead th {\n",
       "        text-align: right;\n",
       "    }\n",
       "</style>\n",
       "<table border=\"1\" class=\"dataframe\">\n",
       "  <thead>\n",
       "    <tr style=\"text-align: right;\">\n",
       "      <th></th>\n",
       "      <th>pctWPubAsst</th>\n",
       "      <th>zscore</th>\n",
       "    </tr>\n",
       "  </thead>\n",
       "  <tbody>\n",
       "    <tr>\n",
       "      <th>920</th>\n",
       "      <td>30.57</td>\n",
       "      <td>5.057921</td>\n",
       "    </tr>\n",
       "    <tr>\n",
       "      <th>1705</th>\n",
       "      <td>44.82</td>\n",
       "      <td>8.090305</td>\n",
       "    </tr>\n",
       "    <tr>\n",
       "      <th>1730</th>\n",
       "      <td>34.60</td>\n",
       "      <td>5.915500</td>\n",
       "    </tr>\n",
       "  </tbody>\n",
       "</table>\n",
       "</div>"
      ],
      "text/plain": [
       "      pctWPubAsst    zscore\n",
       "920         30.57  5.057921\n",
       "1705        44.82  8.090305\n",
       "1730        34.60  5.915500"
      ]
     },
     "execution_count": 36,
     "metadata": {},
     "output_type": "execute_result"
    }
   ],
   "source": [
    "pctWPubAsst_stats[(pctWPubAsst_stats[\"zscore\"] > 5) | (pctWPubAsst_stats[\"zscore\"] < -5)]"
   ]
  },
  {
   "cell_type": "code",
   "execution_count": 37,
   "metadata": {},
   "outputs": [
    {
     "data": {
      "text/plain": [
       "<AxesSubplot:xlabel='pctWPubAsst', ylabel='ViolentCrimesPerPop'>"
      ]
     },
     "execution_count": 37,
     "metadata": {},
     "output_type": "execute_result"
    },
    {
     "data": {
      "image/png": "[encoded data removed]",
      "text/plain": [
       "<Figure size 432x288 with 1 Axes>"
      ]
     },
     "metadata": {
      "needs_background": "light"
     },
     "output_type": "display_data"
    }
   ],
   "source": [
    "data.drop(data.index[[1705, 920, 1730]], inplace=True)\n",
    "sns.scatterplot(data = data, x=\"pctWPubAsst\", y=\"ViolentCrimesPerPop\")"
   ]
  },
  {
   "cell_type": "code",
   "execution_count": 38,
   "metadata": {},
   "outputs": [
    {
     "data": {
      "text/html": [
       "<div>\n",
       "<style scoped>\n",
       "    .dataframe tbody tr th:only-of-type {\n",
       "        vertical-align: middle;\n",
       "    }\n",
       "\n",
       "    .dataframe tbody tr th {\n",
       "        vertical-align: top;\n",
       "    }\n",
       "\n",
       "    .dataframe thead th {\n",
       "        text-align: right;\n",
       "    }\n",
       "</style>\n",
       "<table border=\"1\" class=\"dataframe\">\n",
       "  <thead>\n",
       "    <tr style=\"text-align: right;\">\n",
       "      <th></th>\n",
       "      <th>PctTeen2Par</th>\n",
       "      <th>zscore</th>\n",
       "    </tr>\n",
       "  </thead>\n",
       "  <tbody>\n",
       "    <tr>\n",
       "      <th>count</th>\n",
       "      <td>2210.000</td>\n",
       "      <td>2210.000</td>\n",
       "    </tr>\n",
       "    <tr>\n",
       "      <th>mean</th>\n",
       "      <td>75.565</td>\n",
       "      <td>0.000</td>\n",
       "    </tr>\n",
       "    <tr>\n",
       "      <th>std</th>\n",
       "      <td>10.268</td>\n",
       "      <td>1.000</td>\n",
       "    </tr>\n",
       "    <tr>\n",
       "      <th>min</th>\n",
       "      <td>30.640</td>\n",
       "      <td>-4.376</td>\n",
       "    </tr>\n",
       "    <tr>\n",
       "      <th>25%</th>\n",
       "      <td>70.200</td>\n",
       "      <td>-0.523</td>\n",
       "    </tr>\n",
       "    <tr>\n",
       "      <th>50%</th>\n",
       "      <td>76.925</td>\n",
       "      <td>0.133</td>\n",
       "    </tr>\n",
       "    <tr>\n",
       "      <th>75%</th>\n",
       "      <td>82.773</td>\n",
       "      <td>0.702</td>\n",
       "    </tr>\n",
       "    <tr>\n",
       "      <th>max</th>\n",
       "      <td>97.340</td>\n",
       "      <td>2.121</td>\n",
       "    </tr>\n",
       "  </tbody>\n",
       "</table>\n",
       "</div>"
      ],
      "text/plain": [
       "       PctTeen2Par    zscore\n",
       "count     2210.000  2210.000\n",
       "mean        75.565     0.000\n",
       "std         10.268     1.000\n",
       "min         30.640    -4.376\n",
       "25%         70.200    -0.523\n",
       "50%         76.925     0.133\n",
       "75%         82.773     0.702\n",
       "max         97.340     2.121"
      ]
     },
     "execution_count": 38,
     "metadata": {},
     "output_type": "execute_result"
    }
   ],
   "source": [
    "pctTeen2Par_stats = data.loc[:, [\"PctTeen2Par\"]]\n",
    "pctTeen2Par_stats[\"zscore\"] = stats.zscore(data[\"PctTeen2Par\"])\n",
    "pctTeen2Par_stats.describe().round(3)\n",
    "# As we can see form the results below, all the data points in this column fall between 2 and -4. I'm comfortable enough with this to perform no transformation on any suspected outliers here."
   ]
  },
  {
   "attachments": {},
   "cell_type": "markdown",
   "metadata": {},
   "source": [
    "*******************"
   ]
  },
  {
   "attachments": {},
   "cell_type": "markdown",
   "metadata": {},
   "source": [
    "Outlier assessment of our strongly correlated features that may impact our **non violent** crime rates. "
   ]
  },
  {
   "cell_type": "code",
   "execution_count": 39,
   "metadata": {},
   "outputs": [
    {
     "data": {
      "text/html": [
       "<div>\n",
       "<style scoped>\n",
       "    .dataframe tbody tr th:only-of-type {\n",
       "        vertical-align: middle;\n",
       "    }\n",
       "\n",
       "    .dataframe tbody tr th {\n",
       "        vertical-align: top;\n",
       "    }\n",
       "\n",
       "    .dataframe thead th {\n",
       "        text-align: right;\n",
       "    }\n",
       "</style>\n",
       "<table border=\"1\" class=\"dataframe\">\n",
       "  <thead>\n",
       "    <tr style=\"text-align: right;\">\n",
       "      <th></th>\n",
       "      <th>ViolentCrimesPerPop</th>\n",
       "      <th>TotalPctDiv</th>\n",
       "      <th>FemalePctDiv</th>\n",
       "      <th>MalePctDivorce</th>\n",
       "      <th>PctKidsBornNeverMar</th>\n",
       "      <th>PctPopUnderPov</th>\n",
       "      <th>PctYoungKids2Par</th>\n",
       "      <th>PctTeen2Par</th>\n",
       "      <th>PctFam2Par</th>\n",
       "      <th>PctKids2Par</th>\n",
       "      <th>nonViolPerPop</th>\n",
       "    </tr>\n",
       "  </thead>\n",
       "  <tbody>\n",
       "    <tr>\n",
       "      <th>0</th>\n",
       "      <td>41.02</td>\n",
       "      <td>4.47</td>\n",
       "      <td>5.22</td>\n",
       "      <td>3.67</td>\n",
       "      <td>0.36</td>\n",
       "      <td>1.96</td>\n",
       "      <td>95.78</td>\n",
       "      <td>95.81</td>\n",
       "      <td>91.43</td>\n",
       "      <td>90.17</td>\n",
       "      <td>1394.59</td>\n",
       "    </tr>\n",
       "    <tr>\n",
       "      <th>1</th>\n",
       "      <td>127.56</td>\n",
       "      <td>5.42</td>\n",
       "      <td>6.45</td>\n",
       "      <td>4.23</td>\n",
       "      <td>0.24</td>\n",
       "      <td>3.98</td>\n",
       "      <td>96.82</td>\n",
       "      <td>86.46</td>\n",
       "      <td>86.91</td>\n",
       "      <td>85.33</td>\n",
       "      <td>1955.95</td>\n",
       "    </tr>\n",
       "    <tr>\n",
       "      <th>2</th>\n",
       "      <td>218.59</td>\n",
       "      <td>12.55</td>\n",
       "      <td>14.76</td>\n",
       "      <td>10.10</td>\n",
       "      <td>0.88</td>\n",
       "      <td>4.75</td>\n",
       "      <td>92.37</td>\n",
       "      <td>75.72</td>\n",
       "      <td>78.54</td>\n",
       "      <td>78.85</td>\n",
       "      <td>6167.51</td>\n",
       "    </tr>\n",
       "  </tbody>\n",
       "</table>\n",
       "</div>"
      ],
      "text/plain": [
       "   ViolentCrimesPerPop  TotalPctDiv  FemalePctDiv  MalePctDivorce  \\\n",
       "0                41.02         4.47          5.22            3.67   \n",
       "1               127.56         5.42          6.45            4.23   \n",
       "2               218.59        12.55         14.76           10.10   \n",
       "\n",
       "   PctKidsBornNeverMar  PctPopUnderPov  PctYoungKids2Par  PctTeen2Par  \\\n",
       "0                 0.36            1.96             95.78        95.81   \n",
       "1                 0.24            3.98             96.82        86.46   \n",
       "2                 0.88            4.75             92.37        75.72   \n",
       "\n",
       "   PctFam2Par  PctKids2Par  nonViolPerPop  \n",
       "0       91.43        90.17        1394.59  \n",
       "1       86.91        85.33        1955.95  \n",
       "2       78.54        78.85        6167.51  "
      ]
     },
     "execution_count": 39,
     "metadata": {},
     "output_type": "execute_result"
    }
   ],
   "source": [
    "top_features_nonviol_cols = pd.DataFrame(top_features_nonviol).transpose().columns.tolist()\n",
    "top_features_nonviol_cols.append('nonViolPerPop')\n",
    "top_features_nonviol_df = data.loc[:, [i for i in top_features_nonviol_cols]]\n",
    "top_features_nonviol_df.head(3)"
   ]
  },
  {
   "cell_type": "code",
   "execution_count": 40,
   "metadata": {},
   "outputs": [
    {
     "data": {
      "image/png": "[encoded data removed]",
      "text/plain": [
       "<Figure size 720x180 with 4 Axes>"
      ]
     },
     "metadata": {
      "needs_background": "light"
     },
     "output_type": "display_data"
    },
    {
     "data": {
      "image/png": "[encoded data removed]",
      "text/plain": [
       "<Figure size 720x180 with 4 Axes>"
      ]
     },
     "metadata": {
      "needs_background": "light"
     },
     "output_type": "display_data"
    },
    {
     "data": {
      "image/png": "[encoded data removed]",
      "text/plain": [
       "<Figure size 540x180 with 3 Axes>"
      ]
     },
     "metadata": {
      "needs_background": "light"
     },
     "output_type": "display_data"
    }
   ],
   "source": [
    "for i in range(0, len(top_features_nonviol_cols[:12]), 4):\n",
    "    sns.pairplot(data=top_features_nonviol_df,\n",
    "                 x_vars=top_features_nonviol_df.columns[i:i+4],\n",
    "                 y_vars='nonViolPerPop')"
   ]
  },
  {
   "cell_type": "code",
   "execution_count": 41,
   "metadata": {},
   "outputs": [
    {
     "data": {
      "text/html": [
       "<div>\n",
       "<style scoped>\n",
       "    .dataframe tbody tr th:only-of-type {\n",
       "        vertical-align: middle;\n",
       "    }\n",
       "\n",
       "    .dataframe tbody tr th {\n",
       "        vertical-align: top;\n",
       "    }\n",
       "\n",
       "    .dataframe thead th {\n",
       "        text-align: right;\n",
       "    }\n",
       "</style>\n",
       "<table border=\"1\" class=\"dataframe\">\n",
       "  <thead>\n",
       "    <tr style=\"text-align: right;\">\n",
       "      <th></th>\n",
       "      <th>TotalPctDiv</th>\n",
       "      <th>zscore</th>\n",
       "    </tr>\n",
       "  </thead>\n",
       "  <tbody>\n",
       "    <tr>\n",
       "      <th>count</th>\n",
       "      <td>2210.000</td>\n",
       "      <td>2210.000</td>\n",
       "    </tr>\n",
       "    <tr>\n",
       "      <th>mean</th>\n",
       "      <td>10.802</td>\n",
       "      <td>0.000</td>\n",
       "    </tr>\n",
       "    <tr>\n",
       "      <th>std</th>\n",
       "      <td>2.994</td>\n",
       "      <td>1.000</td>\n",
       "    </tr>\n",
       "    <tr>\n",
       "      <th>min</th>\n",
       "      <td>2.830</td>\n",
       "      <td>-2.663</td>\n",
       "    </tr>\n",
       "    <tr>\n",
       "      <th>25%</th>\n",
       "      <td>8.570</td>\n",
       "      <td>-0.745</td>\n",
       "    </tr>\n",
       "    <tr>\n",
       "      <th>50%</th>\n",
       "      <td>10.880</td>\n",
       "      <td>0.026</td>\n",
       "    </tr>\n",
       "    <tr>\n",
       "      <th>75%</th>\n",
       "      <td>12.970</td>\n",
       "      <td>0.724</td>\n",
       "    </tr>\n",
       "    <tr>\n",
       "      <th>max</th>\n",
       "      <td>22.230</td>\n",
       "      <td>3.818</td>\n",
       "    </tr>\n",
       "  </tbody>\n",
       "</table>\n",
       "</div>"
      ],
      "text/plain": [
       "       TotalPctDiv    zscore\n",
       "count     2210.000  2210.000\n",
       "mean        10.802     0.000\n",
       "std          2.994     1.000\n",
       "min          2.830    -2.663\n",
       "25%          8.570    -0.745\n",
       "50%         10.880     0.026\n",
       "75%         12.970     0.724\n",
       "max         22.230     3.818"
      ]
     },
     "execution_count": 41,
     "metadata": {},
     "output_type": "execute_result"
    }
   ],
   "source": [
    "TotalPctDiv_stats = data.loc[:, [\"TotalPctDiv\"]]\n",
    "TotalPctDiv_stats[\"zscore\"] = stats.zscore(data[\"TotalPctDiv\"])\n",
    "TotalPctDiv_stats.describe().round(3)"
   ]
  },
  {
   "cell_type": "code",
   "execution_count": 42,
   "metadata": {},
   "outputs": [
    {
     "data": {
      "text/plain": [
       "<AxesSubplot:xlabel='TotalPctDiv'>"
      ]
     },
     "execution_count": 42,
     "metadata": {},
     "output_type": "execute_result"
    },
    {
     "data": {
      "image/png": "[encoded data removed]",
      "text/plain": [
       "<Figure size 432x288 with 1 Axes>"
      ]
     },
     "metadata": {
      "needs_background": "light"
     },
     "output_type": "display_data"
    }
   ],
   "source": [
    "# Inspect distribution \n",
    "sns.distplot(data[\"TotalPctDiv\"])\n",
    "# Data in this column follows a normal distribution and the min and max zscore values do not warrant action on any outliers."
   ]
  },
  {
   "cell_type": "code",
   "execution_count": 43,
   "metadata": {},
   "outputs": [
    {
     "data": {
      "text/html": [
       "<div>\n",
       "<style scoped>\n",
       "    .dataframe tbody tr th:only-of-type {\n",
       "        vertical-align: middle;\n",
       "    }\n",
       "\n",
       "    .dataframe tbody tr th {\n",
       "        vertical-align: top;\n",
       "    }\n",
       "\n",
       "    .dataframe thead th {\n",
       "        text-align: right;\n",
       "    }\n",
       "</style>\n",
       "<table border=\"1\" class=\"dataframe\">\n",
       "  <thead>\n",
       "    <tr style=\"text-align: right;\">\n",
       "      <th></th>\n",
       "      <th>PctFam2Par</th>\n",
       "      <th>zscore</th>\n",
       "    </tr>\n",
       "  </thead>\n",
       "  <tbody>\n",
       "    <tr>\n",
       "      <th>count</th>\n",
       "      <td>2210.000</td>\n",
       "      <td>2210.000</td>\n",
       "    </tr>\n",
       "    <tr>\n",
       "      <th>mean</th>\n",
       "      <td>74.108</td>\n",
       "      <td>-0.000</td>\n",
       "    </tr>\n",
       "    <tr>\n",
       "      <th>std</th>\n",
       "      <td>10.440</td>\n",
       "      <td>1.000</td>\n",
       "    </tr>\n",
       "    <tr>\n",
       "      <th>min</th>\n",
       "      <td>22.970</td>\n",
       "      <td>-4.899</td>\n",
       "    </tr>\n",
       "    <tr>\n",
       "      <th>25%</th>\n",
       "      <td>67.945</td>\n",
       "      <td>-0.590</td>\n",
       "    </tr>\n",
       "    <tr>\n",
       "      <th>50%</th>\n",
       "      <td>75.050</td>\n",
       "      <td>0.090</td>\n",
       "    </tr>\n",
       "    <tr>\n",
       "      <th>75%</th>\n",
       "      <td>81.938</td>\n",
       "      <td>0.750</td>\n",
       "    </tr>\n",
       "    <tr>\n",
       "      <th>max</th>\n",
       "      <td>93.600</td>\n",
       "      <td>1.867</td>\n",
       "    </tr>\n",
       "  </tbody>\n",
       "</table>\n",
       "</div>"
      ],
      "text/plain": [
       "       PctFam2Par    zscore\n",
       "count    2210.000  2210.000\n",
       "mean       74.108    -0.000\n",
       "std        10.440     1.000\n",
       "min        22.970    -4.899\n",
       "25%        67.945    -0.590\n",
       "50%        75.050     0.090\n",
       "75%        81.938     0.750\n",
       "max        93.600     1.867"
      ]
     },
     "execution_count": 43,
     "metadata": {},
     "output_type": "execute_result"
    }
   ],
   "source": [
    "PctFam2Par_stats = data.loc[:, [\"PctFam2Par\"]]\n",
    "PctFam2Par_stats[\"zscore\"] = stats.zscore(data[\"PctFam2Par\"])\n",
    "PctFam2Par_stats.describe().round(3)"
   ]
  },
  {
   "cell_type": "code",
   "execution_count": 44,
   "metadata": {},
   "outputs": [
    {
     "data": {
      "text/html": [
       "<div>\n",
       "<style scoped>\n",
       "    .dataframe tbody tr th:only-of-type {\n",
       "        vertical-align: middle;\n",
       "    }\n",
       "\n",
       "    .dataframe tbody tr th {\n",
       "        vertical-align: top;\n",
       "    }\n",
       "\n",
       "    .dataframe thead th {\n",
       "        text-align: right;\n",
       "    }\n",
       "</style>\n",
       "<table border=\"1\" class=\"dataframe\">\n",
       "  <thead>\n",
       "    <tr style=\"text-align: right;\">\n",
       "      <th></th>\n",
       "      <th>PctFam2Par</th>\n",
       "      <th>zscore</th>\n",
       "    </tr>\n",
       "  </thead>\n",
       "  <tbody>\n",
       "    <tr>\n",
       "      <th>1004</th>\n",
       "      <td>32.24</td>\n",
       "      <td>-4.011102</td>\n",
       "    </tr>\n",
       "    <tr>\n",
       "      <th>1730</th>\n",
       "      <td>22.97</td>\n",
       "      <td>-4.899200</td>\n",
       "    </tr>\n",
       "  </tbody>\n",
       "</table>\n",
       "</div>"
      ],
      "text/plain": [
       "      PctFam2Par    zscore\n",
       "1004       32.24 -4.011102\n",
       "1730       22.97 -4.899200"
      ]
     },
     "execution_count": 44,
     "metadata": {},
     "output_type": "execute_result"
    }
   ],
   "source": [
    "\n",
    "PctFam2Par_stats[PctFam2Par_stats[\"zscore\"] < -4]\n",
    "# I'm less concerned with records either greater than 5 STD from the mean or less than -5 STD from the mean. I will have no action for these records."
   ]
  },
  {
   "cell_type": "code",
   "execution_count": 45,
   "metadata": {},
   "outputs": [
    {
     "data": {
      "text/html": [
       "<div>\n",
       "<style scoped>\n",
       "    .dataframe tbody tr th:only-of-type {\n",
       "        vertical-align: middle;\n",
       "    }\n",
       "\n",
       "    .dataframe tbody tr th {\n",
       "        vertical-align: top;\n",
       "    }\n",
       "\n",
       "    .dataframe thead th {\n",
       "        text-align: right;\n",
       "    }\n",
       "</style>\n",
       "<table border=\"1\" class=\"dataframe\">\n",
       "  <thead>\n",
       "    <tr style=\"text-align: right;\">\n",
       "      <th></th>\n",
       "      <th>TotalPctDiv</th>\n",
       "      <th>zscore</th>\n",
       "    </tr>\n",
       "  </thead>\n",
       "  <tbody>\n",
       "    <tr>\n",
       "      <th>count</th>\n",
       "      <td>2210.000</td>\n",
       "      <td>2210.000</td>\n",
       "    </tr>\n",
       "    <tr>\n",
       "      <th>mean</th>\n",
       "      <td>10.802</td>\n",
       "      <td>0.000</td>\n",
       "    </tr>\n",
       "    <tr>\n",
       "      <th>std</th>\n",
       "      <td>2.994</td>\n",
       "      <td>1.000</td>\n",
       "    </tr>\n",
       "    <tr>\n",
       "      <th>min</th>\n",
       "      <td>2.830</td>\n",
       "      <td>-2.663</td>\n",
       "    </tr>\n",
       "    <tr>\n",
       "      <th>25%</th>\n",
       "      <td>8.570</td>\n",
       "      <td>-0.745</td>\n",
       "    </tr>\n",
       "    <tr>\n",
       "      <th>50%</th>\n",
       "      <td>10.880</td>\n",
       "      <td>0.026</td>\n",
       "    </tr>\n",
       "    <tr>\n",
       "      <th>75%</th>\n",
       "      <td>12.970</td>\n",
       "      <td>0.724</td>\n",
       "    </tr>\n",
       "    <tr>\n",
       "      <th>max</th>\n",
       "      <td>22.230</td>\n",
       "      <td>3.818</td>\n",
       "    </tr>\n",
       "  </tbody>\n",
       "</table>\n",
       "</div>"
      ],
      "text/plain": [
       "       TotalPctDiv    zscore\n",
       "count     2210.000  2210.000\n",
       "mean        10.802     0.000\n",
       "std          2.994     1.000\n",
       "min          2.830    -2.663\n",
       "25%          8.570    -0.745\n",
       "50%         10.880     0.026\n",
       "75%         12.970     0.724\n",
       "max         22.230     3.818"
      ]
     },
     "execution_count": 45,
     "metadata": {},
     "output_type": "execute_result"
    }
   ],
   "source": [
    "TotalPctDiv_stats = data.loc[:, [\"TotalPctDiv\"]]\n",
    "TotalPctDiv_stats[\"zscore\"] = stats.zscore(data[\"TotalPctDiv\"])\n",
    "TotalPctDiv_stats.describe().round(3)\n",
    "# Min and Max values fall between -2 and 4. I am not concerned with these scores and will keep the outliers in the dataset. "
   ]
  },
  {
   "attachments": {},
   "cell_type": "markdown",
   "metadata": {},
   "source": [
    "### Feature Engineering"
   ]
  },
  {
   "attachments": {},
   "cell_type": "markdown",
   "metadata": {},
   "source": [
    "We will perform some feature engineering to transform our selected variables into a suitable state for analysis. This will predominantly be in the form of log transformation or feature scaling."
   ]
  },
  {
   "attachments": {},
   "cell_type": "markdown",
   "metadata": {},
   "source": [
    "#### Log Transformation"
   ]
  },
  {
   "attachments": {},
   "cell_type": "markdown",
   "metadata": {},
   "source": [
    "Here we will inspect our predictor variables **violent crime rate per 100k pop** and **no violent crime rate per 100k pop** to see if the data is normally distributed."
   ]
  },
  {
   "attachments": {},
   "cell_type": "markdown",
   "metadata": {},
   "source": [
    "***Non Violent crime distribution assessment***"
   ]
  },
  {
   "cell_type": "code",
   "execution_count": 46,
   "metadata": {},
   "outputs": [
    {
     "data": {
      "text/plain": [
       "<AxesSubplot:xlabel='nonViolPerPop'>"
      ]
     },
     "execution_count": 46,
     "metadata": {},
     "output_type": "execute_result"
    },
    {
     "data": {
      "image/png": "[encoded data removed]",
      "text/plain": [
       "<Figure size 432x288 with 1 Axes>"
      ]
     },
     "metadata": {
      "needs_background": "light"
     },
     "output_type": "display_data"
    }
   ],
   "source": [
    "sns.distplot(data[\"nonViolPerPop\"])"
   ]
  },
  {
   "cell_type": "code",
   "execution_count": 47,
   "metadata": {},
   "outputs": [
    {
     "name": "stdout",
     "output_type": "stream",
     "text": [
      "Non Violent skewness: 1.6456172033177028\n"
     ]
    }
   ],
   "source": [
    "print(f\"Non Violent skewness: {data.nonViolPerPop.skew()}\" )"
   ]
  },
  {
   "attachments": {},
   "cell_type": "markdown",
   "metadata": {},
   "source": [
    "As the plot indicates, our 'Non Violent Per Population' rate deviates from the normal distribution and has a slightly longer tail to the right. Therefore it has a positive skew. To verify this observation, our skewness level is 1.65. Since this is greater than 1, we can consider our 'nonViolPerPop' target variable to have a high level of skewness.\n",
    "\n",
    "We'll now transfrom this data so it looks more normally distributed."
   ]
  },
  {
   "cell_type": "code",
   "execution_count": 48,
   "metadata": {},
   "outputs": [
    {
     "data": {
      "text/plain": [
       "<AxesSubplot:xlabel='nonViolPerPop'>"
      ]
     },
     "execution_count": 48,
     "metadata": {},
     "output_type": "execute_result"
    },
    {
     "data": {
      "image/png": "[encoded data removed]",
      "text/plain": [
       "<Figure size 432x288 with 1 Axes>"
      ]
     },
     "metadata": {
      "needs_background": "light"
     },
     "output_type": "display_data"
    }
   ],
   "source": [
    "nV_log_transformed = np.log(data.nonViolPerPop)\n",
    "sns.distplot(nV_log_transformed)"
   ]
  },
  {
   "cell_type": "code",
   "execution_count": 49,
   "metadata": {},
   "outputs": [
    {
     "name": "stdout",
     "output_type": "stream",
     "text": [
      "New skewness level for nonViolPerPop: -0.4861114457877774\n"
     ]
    }
   ],
   "source": [
    "print(f\"New skewness level for nonViolPerPop: {nV_log_transformed.skew()}\") "
   ]
  },
  {
   "attachments": {},
   "cell_type": "markdown",
   "metadata": {},
   "source": [
    "As we can see, the log method transformed the 'nonViolPerPop' distribution into a more symmetrical bell curve and the skewness level is now 0.48, which is within the \"fairly symmetrical\" range."
   ]
  },
  {
   "attachments": {},
   "cell_type": "markdown",
   "metadata": {},
   "source": [
    "***Violent crime distribution assessment***"
   ]
  },
  {
   "cell_type": "code",
   "execution_count": 50,
   "metadata": {},
   "outputs": [
    {
     "data": {
      "text/plain": [
       "<AxesSubplot:xlabel='ViolentCrimesPerPop'>"
      ]
     },
     "execution_count": 50,
     "metadata": {},
     "output_type": "execute_result"
    },
    {
     "data": {
      "image/png": "[encoded data removed]",
      "text/plain": [
       "<Figure size 432x288 with 1 Axes>"
      ]
     },
     "metadata": {
      "needs_background": "light"
     },
     "output_type": "display_data"
    }
   ],
   "source": [
    "sns.distplot(data.ViolentCrimesPerPop)"
   ]
  },
  {
   "attachments": {},
   "cell_type": "markdown",
   "metadata": {},
   "source": [
    "Our distribution plot for the \"ViolentCrimesPerPop\" distribution appears to be even more positively skewed.  "
   ]
  },
  {
   "cell_type": "code",
   "execution_count": 51,
   "metadata": {},
   "outputs": [
    {
     "name": "stdout",
     "output_type": "stream",
     "text": [
      "Violent crimes per population skewness level: 2.2273634361613364\n"
     ]
    }
   ],
   "source": [
    "print(f\"Violent crimes per population skewness level: {data.ViolentCrimesPerPop.skew()}\")"
   ]
  },
  {
   "cell_type": "code",
   "execution_count": 52,
   "metadata": {},
   "outputs": [
    {
     "name": "stderr",
     "output_type": "stream",
     "text": [
      "c:\\Users\\User\\anaconda3\\lib\\site-packages\\pandas\\core\\arraylike.py:364: RuntimeWarning: divide by zero encountered in log\n",
      "  result = getattr(ufunc, method)(*inputs, **kwargs)\n"
     ]
    },
    {
     "data": {
      "text/plain": [
       "<AxesSubplot:xlabel='ViolentCrimesPerPop'>"
      ]
     },
     "execution_count": 52,
     "metadata": {},
     "output_type": "execute_result"
    },
    {
     "data": {
      "image/png": "[encoded data removed]",
      "text/plain": [
       "<Figure size 432x288 with 1 Axes>"
      ]
     },
     "metadata": {
      "needs_background": "light"
     },
     "output_type": "display_data"
    }
   ],
   "source": [
    "V_log_transformed = np.log(data[\"ViolentCrimesPerPop\"])\n",
    "is_finite = V_log_transformed[np.isfinite(V_log_transformed)]\n",
    "# the np.isfinite() function will give you a boolean array the same size as the input array that is True wherever the finitie, i.e. non-Nan and non-inf.\n",
    "sns.distplot(is_finite)"
   ]
  },
  {
   "cell_type": "code",
   "execution_count": 53,
   "metadata": {},
   "outputs": [
    {
     "name": "stdout",
     "output_type": "stream",
     "text": [
      "New skewness level for Violent Crimes Per Pop: -0.42632566917161496\n"
     ]
    }
   ],
   "source": [
    "print(f\"New skewness level for Violent Crimes Per Pop: {is_finite.skew()}\")"
   ]
  },
  {
   "attachments": {},
   "cell_type": "markdown",
   "metadata": {},
   "source": [
    "As we can see, the log method transformed the 'ViolentCrimesPerPop' distribution into a more symmetrical bell curve and the skewness level is now 0.43, which is within the \"fairly symmetrical\" range.\n"
   ]
  },
  {
   "attachments": {},
   "cell_type": "markdown",
   "metadata": {},
   "source": [
    "#### Feature Scaling"
   ]
  },
  {
   "attachments": {},
   "cell_type": "markdown",
   "metadata": {},
   "source": [
    "We will now perform feature scaling on the features selected in our variable selection process and our two predictor variables. We will use the *StandardScaler()* function in order to standardize our data. "
   ]
  },
  {
   "cell_type": "code",
   "execution_count": 74,
   "metadata": {},
   "outputs": [
    {
     "name": "stdout",
     "output_type": "stream",
     "text": [
      "13\n",
      "Index(['PctKidsBornNeverMar', 'nonViolPerPop', 'racepctblack', 'FemalePctDiv',\n",
      "       'TotalPctDiv', 'pctWPubAsst', 'pctWInvInc', 'PctYoungKids2Par',\n",
      "       'PctTeen2Par', 'racePctWhite', 'PctFam2Par', 'PctKids2Par',\n",
      "       'ViolentCrimesPerPop'],\n",
      "      dtype='object')\n"
     ]
    }
   ],
   "source": [
    "top_features_viol_cols\n",
    "top_features_nonviol_cols\n",
    "selected_data = data.loc[:, [i for i in top_features_viol_cols]]\n",
    "print(len(selected_data.columns))\n",
    "print(selected_data.columns.unique())"
   ]
  },
  {
   "cell_type": "code",
   "execution_count": 77,
   "metadata": {},
   "outputs": [],
   "source": [
    "curr_list = selected_data.columns.unique().tolist()\n",
    "\n",
    "for col in top_features_nonviol_cols:\n",
    "    if col not in curr_list:\n",
    "        curr_list.append(col)\n"
   ]
  },
  {
   "cell_type": "code",
   "execution_count": 78,
   "metadata": {},
   "outputs": [
    {
     "data": {
      "text/plain": [
       "['PctKidsBornNeverMar',\n",
       " 'nonViolPerPop',\n",
       " 'racepctblack',\n",
       " 'FemalePctDiv',\n",
       " 'TotalPctDiv',\n",
       " 'pctWPubAsst',\n",
       " 'pctWInvInc',\n",
       " 'PctYoungKids2Par',\n",
       " 'PctTeen2Par',\n",
       " 'racePctWhite',\n",
       " 'PctFam2Par',\n",
       " 'PctKids2Par',\n",
       " 'ViolentCrimesPerPop',\n",
       " 'MalePctDivorce',\n",
       " 'PctPopUnderPov']"
      ]
     },
     "execution_count": 78,
     "metadata": {},
     "output_type": "execute_result"
    }
   ],
   "source": [
    "curr_list"
   ]
  },
  {
   "cell_type": "code",
   "execution_count": 79,
   "metadata": {},
   "outputs": [
    {
     "name": "stdout",
     "output_type": "stream",
     "text": [
      "15\n"
     ]
    }
   ],
   "source": [
    "selected_data = data.loc[:,[i for i in curr_list]]\n",
    "print(len(selected_data.columns))"
   ]
  },
  {
   "cell_type": "code",
   "execution_count": 80,
   "metadata": {},
   "outputs": [
    {
     "data": {
      "text/plain": [
       "PctKidsBornNeverMar    0\n",
       "nonViolPerPop          0\n",
       "racepctblack           0\n",
       "FemalePctDiv           0\n",
       "TotalPctDiv            0\n",
       "pctWPubAsst            0\n",
       "pctWInvInc             0\n",
       "PctYoungKids2Par       0\n",
       "PctTeen2Par            0\n",
       "racePctWhite           0\n",
       "PctFam2Par             0\n",
       "PctKids2Par            0\n",
       "ViolentCrimesPerPop    0\n",
       "MalePctDivorce         0\n",
       "PctPopUnderPov         0\n",
       "dtype: int64"
      ]
     },
     "execution_count": 80,
     "metadata": {},
     "output_type": "execute_result"
    }
   ],
   "source": [
    "selected_data.isnull().sum()"
   ]
  },
  {
   "cell_type": "code",
   "execution_count": 81,
   "metadata": {},
   "outputs": [
    {
     "data": {
      "text/html": [
       "<div>\n",
       "<style scoped>\n",
       "    .dataframe tbody tr th:only-of-type {\n",
       "        vertical-align: middle;\n",
       "    }\n",
       "\n",
       "    .dataframe tbody tr th {\n",
       "        vertical-align: top;\n",
       "    }\n",
       "\n",
       "    .dataframe thead th {\n",
       "        text-align: right;\n",
       "    }\n",
       "</style>\n",
       "<table border=\"1\" class=\"dataframe\">\n",
       "  <thead>\n",
       "    <tr style=\"text-align: right;\">\n",
       "      <th></th>\n",
       "      <th>PctKidsBornNeverMar</th>\n",
       "      <th>nonViolPerPop</th>\n",
       "      <th>racepctblack</th>\n",
       "      <th>FemalePctDiv</th>\n",
       "      <th>TotalPctDiv</th>\n",
       "      <th>pctWPubAsst</th>\n",
       "      <th>pctWInvInc</th>\n",
       "      <th>PctYoungKids2Par</th>\n",
       "      <th>PctTeen2Par</th>\n",
       "      <th>racePctWhite</th>\n",
       "      <th>PctFam2Par</th>\n",
       "      <th>PctKids2Par</th>\n",
       "      <th>ViolentCrimesPerPop</th>\n",
       "      <th>MalePctDivorce</th>\n",
       "      <th>PctPopUnderPov</th>\n",
       "    </tr>\n",
       "  </thead>\n",
       "  <tbody>\n",
       "    <tr>\n",
       "      <th>0</th>\n",
       "      <td>0.36</td>\n",
       "      <td>1394.59</td>\n",
       "      <td>1.37</td>\n",
       "      <td>5.22</td>\n",
       "      <td>4.47</td>\n",
       "      <td>1.03</td>\n",
       "      <td>70.20</td>\n",
       "      <td>95.78</td>\n",
       "      <td>95.81</td>\n",
       "      <td>91.78</td>\n",
       "      <td>91.43</td>\n",
       "      <td>90.17</td>\n",
       "      <td>41.02</td>\n",
       "      <td>3.67</td>\n",
       "      <td>1.96</td>\n",
       "    </tr>\n",
       "    <tr>\n",
       "      <th>1</th>\n",
       "      <td>0.24</td>\n",
       "      <td>1955.95</td>\n",
       "      <td>0.80</td>\n",
       "      <td>6.45</td>\n",
       "      <td>5.42</td>\n",
       "      <td>2.75</td>\n",
       "      <td>64.11</td>\n",
       "      <td>96.82</td>\n",
       "      <td>86.46</td>\n",
       "      <td>95.57</td>\n",
       "      <td>86.91</td>\n",
       "      <td>85.33</td>\n",
       "      <td>127.56</td>\n",
       "      <td>4.23</td>\n",
       "      <td>3.98</td>\n",
       "    </tr>\n",
       "    <tr>\n",
       "      <th>2</th>\n",
       "      <td>0.88</td>\n",
       "      <td>6167.51</td>\n",
       "      <td>0.74</td>\n",
       "      <td>14.76</td>\n",
       "      <td>12.55</td>\n",
       "      <td>2.94</td>\n",
       "      <td>55.73</td>\n",
       "      <td>92.37</td>\n",
       "      <td>75.72</td>\n",
       "      <td>94.33</td>\n",
       "      <td>78.54</td>\n",
       "      <td>78.85</td>\n",
       "      <td>218.59</td>\n",
       "      <td>10.10</td>\n",
       "      <td>4.75</td>\n",
       "    </tr>\n",
       "    <tr>\n",
       "      <th>3</th>\n",
       "      <td>3.84</td>\n",
       "      <td>4425.45</td>\n",
       "      <td>1.70</td>\n",
       "      <td>14.47</td>\n",
       "      <td>12.91</td>\n",
       "      <td>11.71</td>\n",
       "      <td>38.95</td>\n",
       "      <td>65.38</td>\n",
       "      <td>67.43</td>\n",
       "      <td>97.35</td>\n",
       "      <td>64.02</td>\n",
       "      <td>62.36</td>\n",
       "      <td>306.64</td>\n",
       "      <td>10.98</td>\n",
       "      <td>17.23</td>\n",
       "    </tr>\n",
       "    <tr>\n",
       "      <th>4</th>\n",
       "      <td>4.70</td>\n",
       "      <td>9988.79</td>\n",
       "      <td>0.53</td>\n",
       "      <td>11.64</td>\n",
       "      <td>9.73</td>\n",
       "      <td>11.21</td>\n",
       "      <td>42.82</td>\n",
       "      <td>66.51</td>\n",
       "      <td>79.17</td>\n",
       "      <td>89.16</td>\n",
       "      <td>58.59</td>\n",
       "      <td>55.20</td>\n",
       "      <td>374.06</td>\n",
       "      <td>7.51</td>\n",
       "      <td>29.99</td>\n",
       "    </tr>\n",
       "  </tbody>\n",
       "</table>\n",
       "</div>"
      ],
      "text/plain": [
       "   PctKidsBornNeverMar  nonViolPerPop  racepctblack  FemalePctDiv  \\\n",
       "0                 0.36        1394.59          1.37          5.22   \n",
       "1                 0.24        1955.95          0.80          6.45   \n",
       "2                 0.88        6167.51          0.74         14.76   \n",
       "3                 3.84        4425.45          1.70         14.47   \n",
       "4                 4.70        9988.79          0.53         11.64   \n",
       "\n",
       "   TotalPctDiv  pctWPubAsst  pctWInvInc  PctYoungKids2Par  PctTeen2Par  \\\n",
       "0         4.47         1.03       70.20             95.78        95.81   \n",
       "1         5.42         2.75       64.11             96.82        86.46   \n",
       "2        12.55         2.94       55.73             92.37        75.72   \n",
       "3        12.91        11.71       38.95             65.38        67.43   \n",
       "4         9.73        11.21       42.82             66.51        79.17   \n",
       "\n",
       "   racePctWhite  PctFam2Par  PctKids2Par  ViolentCrimesPerPop  MalePctDivorce  \\\n",
       "0         91.78       91.43        90.17                41.02            3.67   \n",
       "1         95.57       86.91        85.33               127.56            4.23   \n",
       "2         94.33       78.54        78.85               218.59           10.10   \n",
       "3         97.35       64.02        62.36               306.64           10.98   \n",
       "4         89.16       58.59        55.20               374.06            7.51   \n",
       "\n",
       "   PctPopUnderPov  \n",
       "0            1.96  \n",
       "1            3.98  \n",
       "2            4.75  \n",
       "3           17.23  \n",
       "4           29.99  "
      ]
     },
     "execution_count": 81,
     "metadata": {},
     "output_type": "execute_result"
    }
   ],
   "source": [
    "selected_data.head(5)"
   ]
  },
  {
   "cell_type": "code",
   "execution_count": 83,
   "metadata": {},
   "outputs": [
    {
     "data": {
      "text/plain": [
       "array([[-0.895362, -1.3041  , -0.560702, ..., -0.900046, -1.948084,\n",
       "        -1.128109],\n",
       "       [-0.934649, -1.094096, -0.601089, ..., -0.751845, -1.747856,\n",
       "        -0.891343],\n",
       "       [-0.725122,  0.48144 , -0.60534 , ..., -0.595954,  0.35096 ,\n",
       "        -0.80109 ],\n",
       "       ...,\n",
       "       [-0.489404, -0.084686, -0.620928, ..., -0.364354,  0.275875,\n",
       "        -0.471726],\n",
       "       [-0.243865,  0.172196, -0.418993, ...,  0.213346,  0.440347,\n",
       "         2.196003],\n",
       "       [ 0.574599,  1.480653, -0.48843 , ...,  0.60332 ,  2.378266,\n",
       "         0.810565]])"
      ]
     },
     "execution_count": 83,
     "metadata": {},
     "output_type": "execute_result"
    }
   ],
   "source": [
    "import sys\n",
    "data_standardized = StandardScaler().fit_transform(selected_data)\n",
    "np.set_printoptions(precision=6, threshold=5)\n",
    "data_standardized"
   ]
  },
  {
   "attachments": {},
   "cell_type": "markdown",
   "metadata": {},
   "source": [
    "### Hypothesis Testing"
   ]
  },
  {
   "cell_type": "markdown",
   "metadata": {},
   "source": []
  }
 ],
 "metadata": {
  "kernelspec": {
   "display_name": "base",
   "language": "python",
   "name": "python3"
  },
  "language_info": {
   "codemirror_mode": {
    "name": "ipython",
    "version": 3
   },
   "file_extension": ".py",
   "mimetype": "text/x-python",
   "name": "python",
   "nbconvert_exporter": "python",
   "pygments_lexer": "ipython3",
   "version": "3.8.5"
  },
  "orig_nbformat": 4
 },
 "nbformat": 4,
 "nbformat_minor": 2
}

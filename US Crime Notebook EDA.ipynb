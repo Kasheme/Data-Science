{
 "cells": [
  {
   "attachments": {},
   "cell_type": "markdown",
   "metadata": {},
   "source": [
    "# US Crime Communities \n",
    "### EDA & Hypothesis Testing"
   ]
  },
  {
   "attachments": {},
   "cell_type": "markdown",
   "metadata": {},
   "source": [
    "This is a dataset of 2018 US communities, demographics of each community, and their crime rates. The dataset has 146 variables where the first four columns are community/location, the middle features are demographic information about each community such as population, age, race, income, and the final columns are types of crimes and overall crime rates."
   ]
  },
  {
   "attachments": {},
   "cell_type": "markdown",
   "metadata": {},
   "source": [
    "Table of Contents"
   ]
  },
  {
   "attachments": {},
   "cell_type": "markdown",
   "metadata": {},
   "source": [
    "Read in the data"
   ]
  },
  {
   "cell_type": "code",
   "execution_count": 1,
   "metadata": {},
   "outputs": [
    {
     "name": "stdout",
     "output_type": "stream",
     "text": [
      "Populating the interactive namespace from numpy and matplotlib\n"
     ]
    }
   ],
   "source": [
    "%pylab inline\n",
    "\n",
    "import pandas as pd\n",
    "import numpy as np\n",
    "import seaborn as sns\n",
    "import matplotlib.pyplot as plt\n",
    "from scipy import stats\n",
    "import math"
   ]
  },
  {
   "attachments": {},
   "cell_type": "markdown",
   "metadata": {},
   "source": [
    "### Data Understanding"
   ]
  },
  {
   "cell_type": "code",
   "execution_count": 2,
   "metadata": {},
   "outputs": [],
   "source": [
    "data = pd.read_csv('crimedata.csv')"
   ]
  },
  {
   "cell_type": "code",
   "execution_count": 3,
   "metadata": {},
   "outputs": [
    {
     "data": {
      "text/html": [
       "<div>\n",
       "<style scoped>\n",
       "    .dataframe tbody tr th:only-of-type {\n",
       "        vertical-align: middle;\n",
       "    }\n",
       "\n",
       "    .dataframe tbody tr th {\n",
       "        vertical-align: top;\n",
       "    }\n",
       "\n",
       "    .dataframe thead th {\n",
       "        text-align: right;\n",
       "    }\n",
       "</style>\n",
       "<table border=\"1\" class=\"dataframe\">\n",
       "  <thead>\n",
       "    <tr style=\"text-align: right;\">\n",
       "      <th></th>\n",
       "      <th>communityName</th>\n",
       "      <th>state</th>\n",
       "      <th>countyCode</th>\n",
       "      <th>communityCode</th>\n",
       "      <th>population</th>\n",
       "      <th>householdsize</th>\n",
       "      <th>racepctblack</th>\n",
       "      <th>racePctWhite</th>\n",
       "      <th>racePctAsian</th>\n",
       "      <th>racePctHisp</th>\n",
       "      <th>...</th>\n",
       "      <th>burglaries</th>\n",
       "      <th>burglPerPop</th>\n",
       "      <th>larcenies</th>\n",
       "      <th>larcPerPop</th>\n",
       "      <th>autoTheft</th>\n",
       "      <th>autoTheftPerPop</th>\n",
       "      <th>arsons</th>\n",
       "      <th>arsonsPerPop</th>\n",
       "      <th>ViolentCrimesPerPop</th>\n",
       "      <th>nonViolPerPop</th>\n",
       "    </tr>\n",
       "  </thead>\n",
       "  <tbody>\n",
       "    <tr>\n",
       "      <th>0</th>\n",
       "      <td>BerkeleyHeightstownship</td>\n",
       "      <td>NJ</td>\n",
       "      <td>39.0</td>\n",
       "      <td>5320.0</td>\n",
       "      <td>11980</td>\n",
       "      <td>3.10</td>\n",
       "      <td>1.37</td>\n",
       "      <td>91.78</td>\n",
       "      <td>6.50</td>\n",
       "      <td>1.88</td>\n",
       "      <td>...</td>\n",
       "      <td>14.0</td>\n",
       "      <td>114.85</td>\n",
       "      <td>138.0</td>\n",
       "      <td>1132.08</td>\n",
       "      <td>16.0</td>\n",
       "      <td>131.26</td>\n",
       "      <td>2.0</td>\n",
       "      <td>16.41</td>\n",
       "      <td>41.02</td>\n",
       "      <td>1394.59</td>\n",
       "    </tr>\n",
       "    <tr>\n",
       "      <th>1</th>\n",
       "      <td>Marpletownship</td>\n",
       "      <td>PA</td>\n",
       "      <td>45.0</td>\n",
       "      <td>47616.0</td>\n",
       "      <td>23123</td>\n",
       "      <td>2.82</td>\n",
       "      <td>0.80</td>\n",
       "      <td>95.57</td>\n",
       "      <td>3.44</td>\n",
       "      <td>0.85</td>\n",
       "      <td>...</td>\n",
       "      <td>57.0</td>\n",
       "      <td>242.37</td>\n",
       "      <td>376.0</td>\n",
       "      <td>1598.78</td>\n",
       "      <td>26.0</td>\n",
       "      <td>110.55</td>\n",
       "      <td>1.0</td>\n",
       "      <td>4.25</td>\n",
       "      <td>127.56</td>\n",
       "      <td>1955.95</td>\n",
       "    </tr>\n",
       "    <tr>\n",
       "      <th>2</th>\n",
       "      <td>Tigardcity</td>\n",
       "      <td>OR</td>\n",
       "      <td>NaN</td>\n",
       "      <td>NaN</td>\n",
       "      <td>29344</td>\n",
       "      <td>2.43</td>\n",
       "      <td>0.74</td>\n",
       "      <td>94.33</td>\n",
       "      <td>3.43</td>\n",
       "      <td>2.35</td>\n",
       "      <td>...</td>\n",
       "      <td>274.0</td>\n",
       "      <td>758.14</td>\n",
       "      <td>1797.0</td>\n",
       "      <td>4972.19</td>\n",
       "      <td>136.0</td>\n",
       "      <td>376.30</td>\n",
       "      <td>22.0</td>\n",
       "      <td>60.87</td>\n",
       "      <td>218.59</td>\n",
       "      <td>6167.51</td>\n",
       "    </tr>\n",
       "  </tbody>\n",
       "</table>\n",
       "<p>3 rows × 146 columns</p>\n",
       "</div>"
      ],
      "text/plain": [
       "             communityName state  countyCode  communityCode  population  \\\n",
       "0  BerkeleyHeightstownship    NJ        39.0         5320.0       11980   \n",
       "1           Marpletownship    PA        45.0        47616.0       23123   \n",
       "2               Tigardcity    OR         NaN            NaN       29344   \n",
       "\n",
       "   householdsize  racepctblack  racePctWhite  racePctAsian  racePctHisp  ...  \\\n",
       "0           3.10          1.37         91.78          6.50         1.88  ...   \n",
       "1           2.82          0.80         95.57          3.44         0.85  ...   \n",
       "2           2.43          0.74         94.33          3.43         2.35  ...   \n",
       "\n",
       "   burglaries  burglPerPop  larcenies  larcPerPop  autoTheft  autoTheftPerPop  \\\n",
       "0        14.0       114.85      138.0     1132.08       16.0           131.26   \n",
       "1        57.0       242.37      376.0     1598.78       26.0           110.55   \n",
       "2       274.0       758.14     1797.0     4972.19      136.0           376.30   \n",
       "\n",
       "   arsons  arsonsPerPop  ViolentCrimesPerPop  nonViolPerPop  \n",
       "0     2.0         16.41                41.02        1394.59  \n",
       "1     1.0          4.25               127.56        1955.95  \n",
       "2    22.0         60.87               218.59        6167.51  \n",
       "\n",
       "[3 rows x 146 columns]"
      ]
     },
     "execution_count": 3,
     "metadata": {},
     "output_type": "execute_result"
    }
   ],
   "source": [
    "data.head(3)"
   ]
  },
  {
   "cell_type": "code",
   "execution_count": 4,
   "metadata": {},
   "outputs": [
    {
     "data": {
      "text/plain": [
       "(2215, 146)"
      ]
     },
     "execution_count": 4,
     "metadata": {},
     "output_type": "execute_result"
    }
   ],
   "source": [
    "data.shape"
   ]
  },
  {
   "attachments": {},
   "cell_type": "markdown",
   "metadata": {},
   "source": [
    "Since we have 146 columns, we can perform a process of removing columns by inspection of quality and suitability for the analysis."
   ]
  },
  {
   "attachments": {},
   "cell_type": "markdown",
   "metadata": {},
   "source": [
    "### Missing Values"
   ]
  },
  {
   "cell_type": "code",
   "execution_count": 5,
   "metadata": {},
   "outputs": [],
   "source": [
    "missing_vols = pd.DataFrame(data.isnull().sum().sort_values(ascending=False))\n",
    "missing_vols.reset_index(inplace=True)"
   ]
  },
  {
   "cell_type": "code",
   "execution_count": 6,
   "metadata": {},
   "outputs": [
    {
     "data": {
      "text/html": [
       "<div>\n",
       "<style scoped>\n",
       "    .dataframe tbody tr th:only-of-type {\n",
       "        vertical-align: middle;\n",
       "    }\n",
       "\n",
       "    .dataframe tbody tr th {\n",
       "        vertical-align: top;\n",
       "    }\n",
       "\n",
       "    .dataframe thead th {\n",
       "        text-align: right;\n",
       "    }\n",
       "</style>\n",
       "<table border=\"1\" class=\"dataframe\">\n",
       "  <thead>\n",
       "    <tr style=\"text-align: right;\">\n",
       "      <th></th>\n",
       "      <th>index</th>\n",
       "      <th>0</th>\n",
       "    </tr>\n",
       "  </thead>\n",
       "  <tbody>\n",
       "    <tr>\n",
       "      <th>0</th>\n",
       "      <td>PctPolicBlack</td>\n",
       "      <td>1872</td>\n",
       "    </tr>\n",
       "    <tr>\n",
       "      <th>1</th>\n",
       "      <td>PolicAveOTWorked</td>\n",
       "      <td>1872</td>\n",
       "    </tr>\n",
       "    <tr>\n",
       "      <th>2</th>\n",
       "      <td>PolicOperBudg</td>\n",
       "      <td>1872</td>\n",
       "    </tr>\n",
       "    <tr>\n",
       "      <th>3</th>\n",
       "      <td>LemasPctPolicOnPatr</td>\n",
       "      <td>1872</td>\n",
       "    </tr>\n",
       "    <tr>\n",
       "      <th>4</th>\n",
       "      <td>LemasGangUnitDeploy</td>\n",
       "      <td>1872</td>\n",
       "    </tr>\n",
       "  </tbody>\n",
       "</table>\n",
       "</div>"
      ],
      "text/plain": [
       "                 index     0\n",
       "0        PctPolicBlack  1872\n",
       "1     PolicAveOTWorked  1872\n",
       "2        PolicOperBudg  1872\n",
       "3  LemasPctPolicOnPatr  1872\n",
       "4  LemasGangUnitDeploy  1872"
      ]
     },
     "execution_count": 6,
     "metadata": {},
     "output_type": "execute_result"
    }
   ],
   "source": [
    "missing_vols.head()"
   ]
  },
  {
   "cell_type": "code",
   "execution_count": 7,
   "metadata": {},
   "outputs": [],
   "source": [
    "missing_vols.rename(columns={'index':'feature', 0:'total_missing'}, inplace=True)"
   ]
  },
  {
   "cell_type": "code",
   "execution_count": 8,
   "metadata": {},
   "outputs": [
    {
     "data": {
      "text/html": [
       "<div>\n",
       "<style scoped>\n",
       "    .dataframe tbody tr th:only-of-type {\n",
       "        vertical-align: middle;\n",
       "    }\n",
       "\n",
       "    .dataframe tbody tr th {\n",
       "        vertical-align: top;\n",
       "    }\n",
       "\n",
       "    .dataframe thead th {\n",
       "        text-align: right;\n",
       "    }\n",
       "</style>\n",
       "<table border=\"1\" class=\"dataframe\">\n",
       "  <thead>\n",
       "    <tr style=\"text-align: right;\">\n",
       "      <th></th>\n",
       "      <th>total_missing</th>\n",
       "    </tr>\n",
       "  </thead>\n",
       "  <tbody>\n",
       "    <tr>\n",
       "      <th>count</th>\n",
       "      <td>146.000000</td>\n",
       "    </tr>\n",
       "    <tr>\n",
       "      <th>mean</th>\n",
       "      <td>305.424658</td>\n",
       "    </tr>\n",
       "    <tr>\n",
       "      <th>std</th>\n",
       "      <td>677.865329</td>\n",
       "    </tr>\n",
       "    <tr>\n",
       "      <th>min</th>\n",
       "      <td>0.000000</td>\n",
       "    </tr>\n",
       "    <tr>\n",
       "      <th>25%</th>\n",
       "      <td>0.000000</td>\n",
       "    </tr>\n",
       "    <tr>\n",
       "      <th>50%</th>\n",
       "      <td>0.000000</td>\n",
       "    </tr>\n",
       "    <tr>\n",
       "      <th>75%</th>\n",
       "      <td>3.000000</td>\n",
       "    </tr>\n",
       "    <tr>\n",
       "      <th>max</th>\n",
       "      <td>1872.000000</td>\n",
       "    </tr>\n",
       "  </tbody>\n",
       "</table>\n",
       "</div>"
      ],
      "text/plain": [
       "       total_missing\n",
       "count     146.000000\n",
       "mean      305.424658\n",
       "std       677.865329\n",
       "min         0.000000\n",
       "25%         0.000000\n",
       "50%         0.000000\n",
       "75%         3.000000\n",
       "max      1872.000000"
      ]
     },
     "execution_count": 8,
     "metadata": {},
     "output_type": "execute_result"
    }
   ],
   "source": [
    "missing_vols.describe()"
   ]
  },
  {
   "cell_type": "code",
   "execution_count": 9,
   "metadata": {},
   "outputs": [
    {
     "data": {
      "text/plain": [
       "(2215, 124)"
      ]
     },
     "execution_count": 9,
     "metadata": {},
     "output_type": "execute_result"
    }
   ],
   "source": [
    "# drop columns with 1872 missing\n",
    "pd.set_option(\"display.max_columns\", 200)\n",
    "drop_list = missing_vols[missing_vols['total_missing'] == 1872]['feature'].unique().tolist()\n",
    "data.drop([i for i in drop_list], axis=1, inplace=True)\n",
    "data.shape"
   ]
  },
  {
   "cell_type": "code",
   "execution_count": 18,
   "metadata": {},
   "outputs": [],
   "source": [
    "\n",
    "# inspect others above mean\n",
    "mean_missing = missing_vols['total_missing'].mean()\n",
    "missing_vols[(missing_vols.total_missing > mean_missing) & (missing_vols.total_missing != 1872)]\n",
    "data.drop(columns=[\"communityCode\", \"countyCode\"],inplace=True)"
   ]
  },
  {
   "cell_type": "code",
   "execution_count": 39,
   "metadata": {},
   "outputs": [
    {
     "data": {
      "image/png": "[encoded data removed]",
      "text/plain": [
       "<Figure size 720x720 with 1 Axes>"
      ]
     },
     "metadata": {
      "needs_background": "light"
     },
     "output_type": "display_data"
    }
   ],
   "source": [
    "missing_vols = pd.DataFrame(data.isnull().sum().sort_values(ascending=False))\n",
    "missing_vols.reset_index(inplace=True)\n",
    "missing_vols.rename(columns={'index':'feature', 0:'total_missing'}, inplace=True)\n",
    "\n",
    "# Visualise the missing data volumes for the remaining columns\n",
    "fig, ax = plt.subplots(figsize=(10,10))\n",
    "plot = sns.barplot(data=missing_vols[missing_vols['total_missing'] != 0],\n",
    "                    x='feature', y=\"total_missing\", ax=ax, palette='tab20')\n",
    "plot.set_xticklabels(labels=plot.get_xticklabels(),rotation=45)\n",
    "plt.show()"
   ]
  },
  {
   "attachments": {},
   "cell_type": "markdown",
   "metadata": {},
   "source": [
    "We have some remaining null values in the crime type columns. However before we decide on the most appropriate treatment, for them, we will drop the crime detail columns that have just the total number. For this analysis, it is more useful to utilise the columns that have the crime detail \"Per Population\" (per 100K of the town's overall population). This will be more useful when we begin to compare attributes."
   ]
  },
  {
   "cell_type": "code",
   "execution_count": 47,
   "metadata": {},
   "outputs": [
    {
     "data": {
      "text/plain": [
       "Index(['nonViolPerPop', 'ViolentCrimesPerPop', 'arsonsPerPop', 'arsons',\n",
       "       'autoTheftPerPop', 'autoTheft', 'larcPerPop', 'larcenies',\n",
       "       'burglPerPop', 'burglaries', 'assaultPerPop', 'assaults', 'robbbPerPop',\n",
       "       'robberies', 'rapesPerPop', 'rapes', 'murdPerPop', 'murders',\n",
       "       'LemasPctOfficDrugUn', 'PctUsePubTrans', 'PopDens', 'LandArea',\n",
       "       'PctSameState85', 'PctSameCity85', 'PctSameHouse85', 'PctBornSameState',\n",
       "       'PctForeignBorn', 'NumStreet', 'NumInShelters', 'MedOwnCostPctIncNoMtg',\n",
       "       'MedOwnCostPctInc', 'MedRentPctHousInc', 'MedRent', 'RentQrange',\n",
       "       'RentHighQ', 'RentMedian', 'RentLowQ', 'OwnOccQrange', 'OwnOccHiQuart',\n",
       "       'OwnOccMedVal', 'OwnOccLowQuart', 'PctWOFullPlumb', 'PctHousNoPhone',\n",
       "       'MedYrHousBuilt', 'PctVacMore6Mos', 'PctVacantBoarded', 'PctHousOwnOcc',\n",
       "       'PctHousOccup', 'HousVacant', 'MedNumBR', 'PctHousLess3BR',\n",
       "       'PctPersDenseHous', 'PctPersOwnOccup', 'PersPerRentOccHous',\n",
       "       'PersPerOwnOccHous', 'PersPerOccupHous', 'PctLargHouseOccup',\n",
       "       'PctLargHouseFam', 'PctNotSpeakEnglWell', 'PctSpeakEnglOnly',\n",
       "       'PctRecImmig10', 'PctRecImmig8', 'PctRecImmig5', 'PctRecentImmig',\n",
       "       'PctImmigRec10', 'PctImmigRec8', 'PctImmigRec5', 'PctImmigRecent',\n",
       "       'NumImmig', 'PctKidsBornNeverMar', 'NumKidsBornNeverMar', 'PctWorkMom',\n",
       "       'PctWorkMomYoungKids', 'PctTeen2Par', 'PctYoungKids2Par', 'PctKids2Par',\n",
       "       'PctFam2Par', 'PersPerFam', 'TotalPctDiv', 'FemalePctDiv',\n",
       "       'MalePctNevMarr', 'MalePctDivorce', 'PctOccupMgmtProf', 'PctOccupManu',\n",
       "       'PctEmplProfServ', 'PctEmplManu', 'PctEmploy', 'PctUnemployed',\n",
       "       'PctBSorMore', 'PctNotHSGrad', 'PctLess9thGrade', 'PctPopUnderPov',\n",
       "       'NumUnderPov', 'HispPerCap', 'OtherPerCap', 'AsianPerCap',\n",
       "       'indianPerCap', 'blackPerCap', 'whitePerCap', 'perCapInc', 'medFamInc',\n",
       "       'pctWRetire', 'pctWPubAsst', 'pctWSocSec', 'pctWInvInc', 'pctWFarmSelf',\n",
       "       'pctWWage', 'medIncome', 'pctUrban', 'numbUrban', 'agePct65up',\n",
       "       'agePct16t24', 'agePct12t29', 'agePct12t21', 'racePctHisp',\n",
       "       'racePctAsian', 'racePctWhite', 'racepctblack', 'householdsize',\n",
       "       'population', 'state', 'communityName'],\n",
       "      dtype='object')"
      ]
     },
     "execution_count": 47,
     "metadata": {},
     "output_type": "execute_result"
    }
   ],
   "source": [
    "pd.set_option(\"display.max_seq_items\", 500)\n",
    "data.columns[::-1]"
   ]
  },
  {
   "attachments": {},
   "cell_type": "markdown",
   "metadata": {},
   "source": [
    "We can also see that there are specific attributes of the city, such as the number of people born in the same state, that are not going to be included in this analysis. These columns will also be dropped."
   ]
  },
  {
   "cell_type": "code",
   "execution_count": 64,
   "metadata": {},
   "outputs": [
    {
     "data": {
      "text/plain": [
       "63"
      ]
     },
     "execution_count": 64,
     "metadata": {},
     "output_type": "execute_result"
    }
   ],
   "source": [
    "cols_to_drop = ['arsons','autoTheft','larcenies','burgalries','assaults','robberies','rapes','murders',\n",
    "                'PctBornSameState','PctSameHouse85','PctNotSpeakEnglWell', 'PctSpeakEnglOnly','FemalePctDiv',\n",
    "                'MalePctDivorce','PctRecImmig10','PctRecImmig8','PctRecentImmig','PctImmigRec10','PctImmigRec8',\n",
    "                'PctImmigRecent','NumKidsBornNeverMar','PctTeen2Par','PctYoungKids2Par','PctKids2Par',\n",
    "                'PctWorkMomYoungKids',' MedNumBR','HousVacant','PctVacantBoarded','PctVacMore6Mos','MedYrHousBuilt'\n",
    "                'PctHousNoPhone','PctWOFullPlumb','OwnOccLowQuart','OwnOccMedVal','OwnOccHiQuart','RentLowQ',\n",
    "                'RentMedian','RentHighQ','MedRent','MedOwnCostPctInc','MedOwnCostPctIncNoMtg','LemasSwornFT',\n",
    "                'LemasSwFTFieldOps','LemasSwFTFieldPerPop','LemasTotalReq','LemasSwFTFieldPerPop','NumKindsDrugsSeiz',\n",
    "                'PolicCars','LemasGangUnitDeploy','OfficAssgnDrugUnits','numbUrban', 'pctWWage', 'pctWFarmSelf',\n",
    "                'pctWInvInc', 'pctWSocSec', 'pctWPubAsst', 'pctWRetire', 'medFamInc', 'NumUnderPov', 'PctLess9thGrade',\n",
    "                'PctEmplManu', 'PctOccupManu', 'PctEmplProfServ','OtherPerCap']\n",
    "len(cols_to_drop)\n",
    "#data.drop"
   ]
  },
  {
   "attachments": {},
   "cell_type": "markdown",
   "metadata": {},
   "source": [
    "Target categories for the analysis:\n",
    "* Police presence in the community\n",
    "* Homelessness rates\n",
    "* Household income\n",
    "* Level of Education\n",
    "* Family unit structure\n",
    "* Race prevalence\n",
    "* Proportion of immigrants\n",
    "* Employment/Unemployment"
   ]
  },
  {
   "cell_type": "code",
   "execution_count": 65,
   "metadata": {},
   "outputs": [],
   "source": [
    "current_cols = data.columns.tolist()\n",
    "\n",
    "for col in cols_to_drop:\n",
    "    if col in current_cols:\n",
    "        data.drop(columns=col, inplace=True)"
   ]
  },
  {
   "cell_type": "code",
   "execution_count": 66,
   "metadata": {},
   "outputs": [
    {
     "data": {
      "text/plain": [
       "(2215, 62)"
      ]
     },
     "execution_count": 66,
     "metadata": {},
     "output_type": "execute_result"
    }
   ],
   "source": [
    "data.shape"
   ]
  },
  {
   "cell_type": "code",
   "execution_count": 57,
   "metadata": {},
   "outputs": [
    {
     "data": {
      "text/plain": [
       "Index(['communityName', 'state', 'population', 'householdsize', 'racepctblack',\n",
       "       'racePctWhite', 'racePctAsian', 'racePctHisp', 'agePct12t21',\n",
       "       'agePct12t29', 'agePct16t24', 'agePct65up', 'pctUrban', 'medIncome',\n",
       "       'perCapInc', 'whitePerCap', 'blackPerCap', 'indianPerCap',\n",
       "       'AsianPerCap', 'OtherPerCap', 'HispPerCap', 'PctPopUnderPov',\n",
       "       'PctNotHSGrad', 'PctBSorMore', 'PctUnemployed', 'PctEmploy',\n",
       "       'PctOccupMgmtProf', 'MalePctNevMarr', 'TotalPctDiv', 'PersPerFam',\n",
       "       'PctFam2Par', 'PctWorkMom', 'PctKidsBornNeverMar', 'NumImmig',\n",
       "       'PctImmigRec5', 'PctRecImmig5', 'PctLargHouseFam', 'PctLargHouseOccup',\n",
       "       'PersPerOccupHous', 'PersPerOwnOccHous', 'PersPerRentOccHous',\n",
       "       'PctPersOwnOccup', 'PctPersDenseHous', 'PctHousLess3BR', 'MedNumBR',\n",
       "       'PctHousOccup', 'PctHousOwnOcc', 'MedYrHousBuilt', 'PctHousNoPhone',\n",
       "       'OwnOccQrange', 'RentQrange', 'MedRentPctHousInc', 'NumInShelters',\n",
       "       'NumStreet', 'PctForeignBorn', 'PctSameCity85', 'PctSameState85',\n",
       "       'LandArea', 'PopDens', 'PctUsePubTrans', 'LemasPctOfficDrugUn',\n",
       "       'murdPerPop', 'rapesPerPop', 'robbbPerPop', 'assaultPerPop',\n",
       "       'burglaries', 'burglPerPop', 'larcPerPop', 'autoTheftPerPop',\n",
       "       'arsonsPerPop', 'ViolentCrimesPerPop', 'nonViolPerPop'],\n",
       "      dtype='object')"
      ]
     },
     "execution_count": 57,
     "metadata": {},
     "output_type": "execute_result"
    }
   ],
   "source": [
    "pd.set_option(\"display.max_seq_items\", 100)\n",
    "data.columns"
   ]
  },
  {
   "attachments": {},
   "cell_type": "markdown",
   "metadata": {},
   "source": [
    "We are probably only interested in the proportion of violent and non-violent crimes per 100k population. We don't need much more crime detail than that so we wil delete crime detail columns. "
   ]
  },
  {
   "cell_type": "code",
   "execution_count": 59,
   "metadata": {},
   "outputs": [
    {
     "data": {
      "text/plain": [
       "(2215, 63)"
      ]
     },
     "execution_count": 59,
     "metadata": {},
     "output_type": "execute_result"
    }
   ],
   "source": [
    "cd_cols_to_drop = ['murdPerPop', 'rapesPerPop', 'robbbPerPop', 'assaultPerPop',\n",
    "                   'burglaries', 'burglPerPop', 'larcPerPop', 'autoTheftPerPop','arsonsPerPop']\n",
    "data.drop(columns=cd_cols_to_drop, inplace=True)\n",
    "data.shape"
   ]
  },
  {
   "attachments": {},
   "cell_type": "markdown",
   "metadata": {},
   "source": [
    "Now we've selected our columns of interest, let's return to dealing with the remaining missing values in our selected features."
   ]
  },
  {
   "cell_type": "code",
   "execution_count": 67,
   "metadata": {},
   "outputs": [
    {
     "data": {
      "text/plain": [
       "ViolentCrimesPerPop    221\n",
       "nonViolPerPop           97\n",
       "MedYrHousBuilt           0\n",
       "PctImmigRec5             0\n",
       "PctRecImmig5             0\n",
       "                      ... \n",
       "PctOccupMgmtProf         0\n",
       "MalePctNevMarr           0\n",
       "TotalPctDiv              0\n",
       "PersPerFam               0\n",
       "PctKidsBornNeverMar      0\n",
       "Length: 62, dtype: int64"
      ]
     },
     "execution_count": 67,
     "metadata": {},
     "output_type": "execute_result"
    }
   ],
   "source": [
    "data.isnull().sum().sort_values(ascending=False)"
   ]
  },
  {
   "attachments": {},
   "cell_type": "markdown",
   "metadata": {},
   "source": [
    "Unfortunately, the two remaining variables with missing values are our predicter variables. Let's assess the distribution of these columns before we decide what to do with the missing values."
   ]
  },
  {
   "cell_type": "code",
   "execution_count": 69,
   "metadata": {},
   "outputs": [
    {
     "data": {
      "text/plain": [
       "<AxesSubplot:xlabel='ViolentCrimesPerPop'>"
      ]
     },
     "execution_count": 69,
     "metadata": {},
     "output_type": "execute_result"
    },
    {
     "data": {
      "image/png": "[encoded data removed]",
      "text/plain": [
       "<Figure size 432x288 with 1 Axes>"
      ]
     },
     "metadata": {
      "needs_background": "light"
     },
     "output_type": "display_data"
    }
   ],
   "source": [
    "sns.boxplot(data=data, x='ViolentCrimesPerPop')"
   ]
  },
  {
   "cell_type": "code",
   "execution_count": 71,
   "metadata": {},
   "outputs": [
    {
     "data": {
      "text/plain": [
       "<AxesSubplot:xlabel='nonViolPerPop'>"
      ]
     },
     "execution_count": 71,
     "metadata": {},
     "output_type": "execute_result"
    },
    {
     "data": {
      "image/png": "[encoded data removed]",
      "text/plain": [
       "<Figure size 432x288 with 1 Axes>"
      ]
     },
     "metadata": {
      "needs_background": "light"
     },
     "output_type": "display_data"
    }
   ],
   "source": [
    "sns.boxplot(data=data, x='nonViolPerPop')"
   ]
  },
  {
   "attachments": {},
   "cell_type": "markdown",
   "metadata": {},
   "source": [
    "As we can see from both of these plts, we have some data points that are plotted outside of the box plot area and that greatly deviate from the rest of the population. As we're essentially trying to understand what drives violent and non violent crime in communities, these outlier numbers may provide us with insight later on. Nevertheless lets replace the missing values with the median since our data appears to be widely distributed."
   ]
  },
  {
   "cell_type": "code",
   "execution_count": 72,
   "metadata": {},
   "outputs": [
    {
     "name": "stdout",
     "output_type": "stream",
     "text": [
      "Non Violent Crimes mean: 4908.241803588291\n",
      "Non Violent Crimes median: 4425.450000000001\n",
      "Violent Crimes mean: 589.0789217652964\n",
      "Violent Crimes median: 374.06\n"
     ]
    }
   ],
   "source": [
    "nonViol_mean = np.mean(data.nonViolPerPop)\n",
    "nonViol_median = data.nonViolPerPop.median()\n",
    "\n",
    "viol_mean = np.mean(data.ViolentCrimesPerPop)\n",
    "viol_median = data.ViolentCrimesPerPop.median()\n",
    "\n",
    "print(f\"Non Violent Crimes mean: {nonViol_mean}\")\n",
    "print(f\"Non Violent Crimes median: {nonViol_median}\")\n",
    "print(f\"Violent Crimes mean: {viol_mean}\")\n",
    "print(f\"Violent Crimes median: {viol_median}\")"
   ]
  },
  {
   "cell_type": "code",
   "execution_count": 74,
   "metadata": {},
   "outputs": [
    {
     "name": "stdout",
     "output_type": "stream",
     "text": [
      "Number of missing values in dataset: 0\n"
     ]
    }
   ],
   "source": [
    "data.nonViolPerPop.fillna(nonViol_median, inplace=True)\n",
    "data.ViolentCrimesPerPop.fillna(viol_median, inplace=True)\n",
    "print(f\"Number of missing values in dataset: {data.isnull().sum().sum()}\")"
   ]
  },
  {
   "attachments": {},
   "cell_type": "markdown",
   "metadata": {},
   "source": [
    "### Outliers"
   ]
  }
 ],
 "metadata": {
  "kernelspec": {
   "display_name": "base",
   "language": "python",
   "name": "python3"
  },
  "language_info": {
   "codemirror_mode": {
    "name": "ipython",
    "version": 3
   },
   "file_extension": ".py",
   "mimetype": "text/x-python",
   "name": "python",
   "nbconvert_exporter": "python",
   "pygments_lexer": "ipython3",
   "version": "3.8.5"
  },
  "orig_nbformat": 4
 },
 "nbformat": 4,
 "nbformat_minor": 2
}
